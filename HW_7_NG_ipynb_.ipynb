{
  "cells": [
    {
      "cell_type": "markdown",
      "metadata": {
        "id": "wwAdrrlks_ZJ"
      },
      "source": [
        "# Практика Text classification using CNN"
      ]
    },
    {
      "cell_type": "markdown",
      "source": [
        "Берем отзывы за лето (из архива с материалами или предыдущего занятия)\n",
        "\n",
        "Учим conv сеть для классификации\n",
        "Рассмотреть 2-а варианта сеточек:\n",
        "Инициализировать слой tf.keras.layers.Embedding по умолчанию (ну то есть вам ничего не делать с весами)\n",
        "Инициализировать tf.keras.layers.Embedding предобученными векторами взять к примеру с https://rusvectores.org/ru/\n",
        "Сравнить две архитектуры с предобученными весами и когда tf.keras.layers.Embedding обучается сразу со всей сеточкой, что получилось лучше\n"
      ],
      "metadata": {
        "id": "mCuiHLFvHgyw"
      }
    },
    {
      "cell_type": "code",
      "source": [
        "pip install pymorphy3\n"
      ],
      "metadata": {
        "colab": {
          "base_uri": "https://localhost:8080/"
        },
        "id": "TtTRFGlucEJN",
        "outputId": "27233b9e-a73d-4275-e511-6fd629aa4232"
      },
      "execution_count": 1,
      "outputs": [
        {
          "output_type": "stream",
          "name": "stdout",
          "text": [
            "Collecting pymorphy3\n",
            "  Downloading pymorphy3-2.0.1-py3-none-any.whl (53 kB)\n",
            "\u001b[2K     \u001b[90m━━━━━━━━━━━━━━━━━━━━━━━━━━━━━━━━━━━━━━━━\u001b[0m \u001b[32m53.2/53.2 kB\u001b[0m \u001b[31m599.2 kB/s\u001b[0m eta \u001b[36m0:00:00\u001b[0m\n",
            "\u001b[?25hCollecting dawg-python>=0.7.1 (from pymorphy3)\n",
            "  Downloading DAWG_Python-0.7.2-py2.py3-none-any.whl (11 kB)\n",
            "Collecting pymorphy3-dicts-ru (from pymorphy3)\n",
            "  Downloading pymorphy3_dicts_ru-2.4.417150.4580142-py2.py3-none-any.whl (8.4 MB)\n",
            "\u001b[2K     \u001b[90m━━━━━━━━━━━━━━━━━━━━━━━━━━━━━━━━━━━━━━━━\u001b[0m \u001b[32m8.4/8.4 MB\u001b[0m \u001b[31m55.6 MB/s\u001b[0m eta \u001b[36m0:00:00\u001b[0m\n",
            "\u001b[?25hInstalling collected packages: pymorphy3-dicts-ru, dawg-python, pymorphy3\n",
            "Successfully installed dawg-python-0.7.2 pymorphy3-2.0.1 pymorphy3-dicts-ru-2.4.417150.4580142\n"
          ]
        }
      ]
    },
    {
      "cell_type": "code",
      "source": [
        "pip install stop_words"
      ],
      "metadata": {
        "colab": {
          "base_uri": "https://localhost:8080/"
        },
        "id": "p24GRdsqcPoI",
        "outputId": "67ffcd5b-d1b4-40a0-a9bb-7497bc1f07dc"
      },
      "execution_count": 2,
      "outputs": [
        {
          "output_type": "stream",
          "name": "stdout",
          "text": [
            "Collecting stop_words\n",
            "  Downloading stop-words-2018.7.23.tar.gz (31 kB)\n",
            "  Preparing metadata (setup.py) ... \u001b[?25l\u001b[?25hdone\n",
            "Building wheels for collected packages: stop_words\n",
            "  Building wheel for stop_words (setup.py) ... \u001b[?25l\u001b[?25hdone\n",
            "  Created wheel for stop_words: filename=stop_words-2018.7.23-py3-none-any.whl size=32895 sha256=ca545dab1c9f6d49c4ad374499f1596dfe8a715d97e9e9b0b7a6fdb475451858\n",
            "  Stored in directory: /root/.cache/pip/wheels/d0/1a/23/f12552a50cb09bcc1694a5ebb6c2cd5f2a0311de2b8c3d9a89\n",
            "Successfully built stop_words\n",
            "Installing collected packages: stop_words\n",
            "Successfully installed stop_words-2018.7.23\n"
          ]
        }
      ]
    },
    {
      "cell_type": "code",
      "source": [
        "import pandas as pd\n",
        "\n",
        "from string import punctuation\n",
        "from stop_words import get_stop_words\n",
        "from pymorphy3 import MorphAnalyzer\n",
        "import re\n",
        "\n",
        "import nltk\n",
        "from nltk.tokenize import word_tokenize\n",
        "nltk.download(\"punkt\")"
      ],
      "metadata": {
        "colab": {
          "base_uri": "https://localhost:8080/"
        },
        "id": "WK2G7l4RbJv1",
        "outputId": "c3d0e104-cdef-490f-a370-a152711bfe37"
      },
      "execution_count": 3,
      "outputs": [
        {
          "output_type": "stream",
          "name": "stderr",
          "text": [
            "[nltk_data] Downloading package punkt to /root/nltk_data...\n",
            "[nltk_data]   Unzipping tokenizers/punkt.zip.\n"
          ]
        },
        {
          "output_type": "execute_result",
          "data": {
            "text/plain": [
              "True"
            ]
          },
          "metadata": {},
          "execution_count": 3
        }
      ]
    },
    {
      "cell_type": "code",
      "source": [
        "pd.set_option('max_colwidth', 1200)\n",
        "pd.set_option('display.width', 1200)\n",
        "pd.set_option('display.width', 100)\n",
        "pd.set_option('display.expand_frame_repr', True)\n",
        "pd.set_option('styler.latex.multicol_align',  'naive-l')\n",
        "pd.set_option('display.colheader_justify', 'left')"
      ],
      "metadata": {
        "id": "KehEeqCgPlsM"
      },
      "execution_count": 4,
      "outputs": []
    },
    {
      "cell_type": "code",
      "execution_count": 5,
      "metadata": {
        "id": "2H5tFUEMCE7d"
      },
      "outputs": [],
      "source": [
        "max_words = 900\n",
        "max_len = 60\n",
        "num_classes = 2\n",
        "\n",
        "# Training\n",
        "epochs = 30\n",
        "batch_size = 1024\n",
        "print_batch_n = 200"
      ]
    },
    {
      "cell_type": "code",
      "execution_count": 6,
      "metadata": {
        "id": "LUCk-5M2yg3S",
        "colab": {
          "base_uri": "https://localhost:8080/",
          "height": 990
        },
        "outputId": "d0278be0-2fba-4eef-fcc4-25e737ba73e8"
      },
      "outputs": [
        {
          "output_type": "execute_result",
          "data": {
            "text/plain": [
              "    Rating  \\\n",
              "0   5        \n",
              "1   4        \n",
              "2   5        \n",
              "3   5        \n",
              "4   5        \n",
              "5   5        \n",
              "6   5        \n",
              "7   5        \n",
              "8   5        \n",
              "9   5        \n",
              "10  5        \n",
              "11  5        \n",
              "12  2        \n",
              "13  5        \n",
              "14  5        \n",
              "15  5        \n",
              "16  5        \n",
              "17  5        \n",
              "18  5        \n",
              "19  5        \n",
              "20  5        \n",
              "21  5        \n",
              "22  5        \n",
              "23  5        \n",
              "24  5        \n",
              "25  3        \n",
              "26  5        \n",
              "27  5        \n",
              "28  5        \n",
              "29  5        \n",
              "\n",
              "   Content                                                                                                                                                 \\\n",
              "0                                                                                                                                          It just works!   \n",
              "1   В целом удобноное приложение...из минусов хотят слишком большой доступ к персональным данным в телефоне,приходится пользоваться в ограниченном режиме   \n",
              "2                                                                                                                                             Отлично все   \n",
              "3                                                          Стал зависать на 1% работы антивируса. Дальше никуда. Ранее больше года пользовался нормально.   \n",
              "4                                                                                                                          Очень удобно, работает быстро.   \n",
              "5                                                                                                                                     Всё удобно норм 👍👍👍   \n",
              "6                                                                                                                               Очень удобное приложение.   \n",
              "7                                                                                                                                          Все устраивает   \n",
              "8                                                                      У меня работает все четко. В отличии от банкоматов, которые вечно зависают и тупят   \n",
              "9                                                                                                                                       Очень все хорошо👍   \n",
              "10                                                                                                                                                Все ок!   \n",
              "11                                                                                       Все нормально, кроме того что уведомление нельзя удалять!!!!!!!!   \n",
              "12                                                                  Не стартует без доступа к gps, sms, звонкам и адресной книге. Филиал фсб одним словом   \n",
              "13                                                                                                   Очень удобно, работает замечательно, подвисаний нет.   \n",
              "14                                                                                                                                           Очень удобно   \n",
              "15                                                                                                                                    Очень удобная штука   \n",
              "16                                                                                                                                    Отличное приложение   \n",
              "17                                                                                                                                       Удобно практично   \n",
              "18                                                                                              Очень удобное приложение, для оплаты платежей и переводов   \n",
              "19                                                                                                                                        Удобно и быстро   \n",
              "20                            Очень удобное приложение, вот можно было бы транспортные карты пополнять через приложение, так вообще замечательно было бы.   \n",
              "21                                                                                                      Жаль, что история ВСЕХ движений под семью замками   \n",
              "22                                                                                                                                     Хорошее приложение   \n",
              "23                                                                                                                             Удобно и без лишних хлопот   \n",
              "24                                                                                                                                               Полезное   \n",
              "25                            При заходе дважды требует пароль.и на оплате электроэнергии виснет намертво на первом листе списка и висит загрузка вечно (   \n",
              "26                                                                                                           Всё хорошо запустились, Спасибо вам большое.   \n",
              "27                                                                                               Если бы ещё сбербанк так же отлично работал в живую!.. )   \n",
              "28                                                                                                                                 Очень удобно, спасибо.   \n",
              "29                                                                                                                 Платежи работают как швейцарские часы!   \n",
              "\n",
              "   Date         \n",
              "0   2017-08-14  \n",
              "1   2017-08-14  \n",
              "2   2017-08-14  \n",
              "3   2017-08-14  \n",
              "4   2017-08-14  \n",
              "5   2017-08-14  \n",
              "6   2017-08-14  \n",
              "7   2017-08-14  \n",
              "8   2017-08-14  \n",
              "9   2017-08-14  \n",
              "10  2017-08-14  \n",
              "11  2017-08-14  \n",
              "12  2017-08-14  \n",
              "13  2017-08-14  \n",
              "14  2017-08-14  \n",
              "15  2017-08-14  \n",
              "16  2017-08-14  \n",
              "17  2017-08-14  \n",
              "18  2017-08-14  \n",
              "19  2017-08-14  \n",
              "20  2017-08-14  \n",
              "21  2017-08-14  \n",
              "22  2017-08-14  \n",
              "23  2017-08-14  \n",
              "24  2017-08-14  \n",
              "25  2017-08-14  \n",
              "26  2017-08-14  \n",
              "27  2017-08-14  \n",
              "28  2017-08-14  \n",
              "29  2017-08-14  "
            ],
            "text/html": [
              "\n",
              "  <div id=\"df-ccb35b79-0470-4e88-99c0-9fc03ea684bc\" class=\"colab-df-container\">\n",
              "    <div>\n",
              "<style scoped>\n",
              "    .dataframe tbody tr th:only-of-type {\n",
              "        vertical-align: middle;\n",
              "    }\n",
              "\n",
              "    .dataframe tbody tr th {\n",
              "        vertical-align: top;\n",
              "    }\n",
              "\n",
              "    .dataframe thead th {\n",
              "        text-align: right;\n",
              "    }\n",
              "</style>\n",
              "<table border=\"1\" class=\"dataframe\">\n",
              "  <thead>\n",
              "    <tr style=\"text-align: left;\">\n",
              "      <th></th>\n",
              "      <th>Rating</th>\n",
              "      <th>Content</th>\n",
              "      <th>Date</th>\n",
              "    </tr>\n",
              "  </thead>\n",
              "  <tbody>\n",
              "    <tr>\n",
              "      <th>0</th>\n",
              "      <td>5</td>\n",
              "      <td>It just works!</td>\n",
              "      <td>2017-08-14</td>\n",
              "    </tr>\n",
              "    <tr>\n",
              "      <th>1</th>\n",
              "      <td>4</td>\n",
              "      <td>В целом удобноное приложение...из минусов хотят слишком большой доступ к персональным данным в телефоне,приходится пользоваться в ограниченном режиме</td>\n",
              "      <td>2017-08-14</td>\n",
              "    </tr>\n",
              "    <tr>\n",
              "      <th>2</th>\n",
              "      <td>5</td>\n",
              "      <td>Отлично все</td>\n",
              "      <td>2017-08-14</td>\n",
              "    </tr>\n",
              "    <tr>\n",
              "      <th>3</th>\n",
              "      <td>5</td>\n",
              "      <td>Стал зависать на 1% работы антивируса. Дальше никуда. Ранее больше года пользовался нормально.</td>\n",
              "      <td>2017-08-14</td>\n",
              "    </tr>\n",
              "    <tr>\n",
              "      <th>4</th>\n",
              "      <td>5</td>\n",
              "      <td>Очень удобно, работает быстро.</td>\n",
              "      <td>2017-08-14</td>\n",
              "    </tr>\n",
              "    <tr>\n",
              "      <th>5</th>\n",
              "      <td>5</td>\n",
              "      <td>Всё удобно норм 👍👍👍</td>\n",
              "      <td>2017-08-14</td>\n",
              "    </tr>\n",
              "    <tr>\n",
              "      <th>6</th>\n",
              "      <td>5</td>\n",
              "      <td>Очень удобное приложение.</td>\n",
              "      <td>2017-08-14</td>\n",
              "    </tr>\n",
              "    <tr>\n",
              "      <th>7</th>\n",
              "      <td>5</td>\n",
              "      <td>Все устраивает</td>\n",
              "      <td>2017-08-14</td>\n",
              "    </tr>\n",
              "    <tr>\n",
              "      <th>8</th>\n",
              "      <td>5</td>\n",
              "      <td>У меня работает все четко. В отличии от банкоматов, которые вечно зависают и тупят</td>\n",
              "      <td>2017-08-14</td>\n",
              "    </tr>\n",
              "    <tr>\n",
              "      <th>9</th>\n",
              "      <td>5</td>\n",
              "      <td>Очень все хорошо👍</td>\n",
              "      <td>2017-08-14</td>\n",
              "    </tr>\n",
              "    <tr>\n",
              "      <th>10</th>\n",
              "      <td>5</td>\n",
              "      <td>Все ок!</td>\n",
              "      <td>2017-08-14</td>\n",
              "    </tr>\n",
              "    <tr>\n",
              "      <th>11</th>\n",
              "      <td>5</td>\n",
              "      <td>Все нормально, кроме того что уведомление нельзя удалять!!!!!!!!</td>\n",
              "      <td>2017-08-14</td>\n",
              "    </tr>\n",
              "    <tr>\n",
              "      <th>12</th>\n",
              "      <td>2</td>\n",
              "      <td>Не стартует без доступа к gps, sms, звонкам и адресной книге. Филиал фсб одним словом</td>\n",
              "      <td>2017-08-14</td>\n",
              "    </tr>\n",
              "    <tr>\n",
              "      <th>13</th>\n",
              "      <td>5</td>\n",
              "      <td>Очень удобно, работает замечательно, подвисаний нет.</td>\n",
              "      <td>2017-08-14</td>\n",
              "    </tr>\n",
              "    <tr>\n",
              "      <th>14</th>\n",
              "      <td>5</td>\n",
              "      <td>Очень удобно</td>\n",
              "      <td>2017-08-14</td>\n",
              "    </tr>\n",
              "    <tr>\n",
              "      <th>15</th>\n",
              "      <td>5</td>\n",
              "      <td>Очень удобная штука</td>\n",
              "      <td>2017-08-14</td>\n",
              "    </tr>\n",
              "    <tr>\n",
              "      <th>16</th>\n",
              "      <td>5</td>\n",
              "      <td>Отличное приложение</td>\n",
              "      <td>2017-08-14</td>\n",
              "    </tr>\n",
              "    <tr>\n",
              "      <th>17</th>\n",
              "      <td>5</td>\n",
              "      <td>Удобно практично</td>\n",
              "      <td>2017-08-14</td>\n",
              "    </tr>\n",
              "    <tr>\n",
              "      <th>18</th>\n",
              "      <td>5</td>\n",
              "      <td>Очень удобное приложение, для оплаты платежей и переводов</td>\n",
              "      <td>2017-08-14</td>\n",
              "    </tr>\n",
              "    <tr>\n",
              "      <th>19</th>\n",
              "      <td>5</td>\n",
              "      <td>Удобно и быстро</td>\n",
              "      <td>2017-08-14</td>\n",
              "    </tr>\n",
              "    <tr>\n",
              "      <th>20</th>\n",
              "      <td>5</td>\n",
              "      <td>Очень удобное приложение, вот можно было бы транспортные карты пополнять через приложение, так вообще замечательно было бы.</td>\n",
              "      <td>2017-08-14</td>\n",
              "    </tr>\n",
              "    <tr>\n",
              "      <th>21</th>\n",
              "      <td>5</td>\n",
              "      <td>Жаль, что история ВСЕХ движений под семью замками</td>\n",
              "      <td>2017-08-14</td>\n",
              "    </tr>\n",
              "    <tr>\n",
              "      <th>22</th>\n",
              "      <td>5</td>\n",
              "      <td>Хорошее приложение</td>\n",
              "      <td>2017-08-14</td>\n",
              "    </tr>\n",
              "    <tr>\n",
              "      <th>23</th>\n",
              "      <td>5</td>\n",
              "      <td>Удобно и без лишних хлопот</td>\n",
              "      <td>2017-08-14</td>\n",
              "    </tr>\n",
              "    <tr>\n",
              "      <th>24</th>\n",
              "      <td>5</td>\n",
              "      <td>Полезное</td>\n",
              "      <td>2017-08-14</td>\n",
              "    </tr>\n",
              "    <tr>\n",
              "      <th>25</th>\n",
              "      <td>3</td>\n",
              "      <td>При заходе дважды требует пароль.и на оплате электроэнергии виснет намертво на первом листе списка и висит загрузка вечно (</td>\n",
              "      <td>2017-08-14</td>\n",
              "    </tr>\n",
              "    <tr>\n",
              "      <th>26</th>\n",
              "      <td>5</td>\n",
              "      <td>Всё хорошо запустились, Спасибо вам большое.</td>\n",
              "      <td>2017-08-14</td>\n",
              "    </tr>\n",
              "    <tr>\n",
              "      <th>27</th>\n",
              "      <td>5</td>\n",
              "      <td>Если бы ещё сбербанк так же отлично работал в живую!.. )</td>\n",
              "      <td>2017-08-14</td>\n",
              "    </tr>\n",
              "    <tr>\n",
              "      <th>28</th>\n",
              "      <td>5</td>\n",
              "      <td>Очень удобно, спасибо.</td>\n",
              "      <td>2017-08-14</td>\n",
              "    </tr>\n",
              "    <tr>\n",
              "      <th>29</th>\n",
              "      <td>5</td>\n",
              "      <td>Платежи работают как швейцарские часы!</td>\n",
              "      <td>2017-08-14</td>\n",
              "    </tr>\n",
              "  </tbody>\n",
              "</table>\n",
              "</div>\n",
              "    <div class=\"colab-df-buttons\">\n",
              "\n",
              "  <div class=\"colab-df-container\">\n",
              "    <button class=\"colab-df-convert\" onclick=\"convertToInteractive('df-ccb35b79-0470-4e88-99c0-9fc03ea684bc')\"\n",
              "            title=\"Convert this dataframe to an interactive table.\"\n",
              "            style=\"display:none;\">\n",
              "\n",
              "  <svg xmlns=\"http://www.w3.org/2000/svg\" height=\"24px\" viewBox=\"0 -960 960 960\">\n",
              "    <path d=\"M120-120v-720h720v720H120Zm60-500h600v-160H180v160Zm220 220h160v-160H400v160Zm0 220h160v-160H400v160ZM180-400h160v-160H180v160Zm440 0h160v-160H620v160ZM180-180h160v-160H180v160Zm440 0h160v-160H620v160Z\"/>\n",
              "  </svg>\n",
              "    </button>\n",
              "\n",
              "  <style>\n",
              "    .colab-df-container {\n",
              "      display:flex;\n",
              "      gap: 12px;\n",
              "    }\n",
              "\n",
              "    .colab-df-convert {\n",
              "      background-color: #E8F0FE;\n",
              "      border: none;\n",
              "      border-radius: 50%;\n",
              "      cursor: pointer;\n",
              "      display: none;\n",
              "      fill: #1967D2;\n",
              "      height: 32px;\n",
              "      padding: 0 0 0 0;\n",
              "      width: 32px;\n",
              "    }\n",
              "\n",
              "    .colab-df-convert:hover {\n",
              "      background-color: #E2EBFA;\n",
              "      box-shadow: 0px 1px 2px rgba(60, 64, 67, 0.3), 0px 1px 3px 1px rgba(60, 64, 67, 0.15);\n",
              "      fill: #174EA6;\n",
              "    }\n",
              "\n",
              "    .colab-df-buttons div {\n",
              "      margin-bottom: 4px;\n",
              "    }\n",
              "\n",
              "    [theme=dark] .colab-df-convert {\n",
              "      background-color: #3B4455;\n",
              "      fill: #D2E3FC;\n",
              "    }\n",
              "\n",
              "    [theme=dark] .colab-df-convert:hover {\n",
              "      background-color: #434B5C;\n",
              "      box-shadow: 0px 1px 3px 1px rgba(0, 0, 0, 0.15);\n",
              "      filter: drop-shadow(0px 1px 2px rgba(0, 0, 0, 0.3));\n",
              "      fill: #FFFFFF;\n",
              "    }\n",
              "  </style>\n",
              "\n",
              "    <script>\n",
              "      const buttonEl =\n",
              "        document.querySelector('#df-ccb35b79-0470-4e88-99c0-9fc03ea684bc button.colab-df-convert');\n",
              "      buttonEl.style.display =\n",
              "        google.colab.kernel.accessAllowed ? 'block' : 'none';\n",
              "\n",
              "      async function convertToInteractive(key) {\n",
              "        const element = document.querySelector('#df-ccb35b79-0470-4e88-99c0-9fc03ea684bc');\n",
              "        const dataTable =\n",
              "          await google.colab.kernel.invokeFunction('convertToInteractive',\n",
              "                                                    [key], {});\n",
              "        if (!dataTable) return;\n",
              "\n",
              "        const docLinkHtml = 'Like what you see? Visit the ' +\n",
              "          '<a target=\"_blank\" href=https://colab.research.google.com/notebooks/data_table.ipynb>data table notebook</a>'\n",
              "          + ' to learn more about interactive tables.';\n",
              "        element.innerHTML = '';\n",
              "        dataTable['output_type'] = 'display_data';\n",
              "        await google.colab.output.renderOutput(dataTable, element);\n",
              "        const docLink = document.createElement('div');\n",
              "        docLink.innerHTML = docLinkHtml;\n",
              "        element.appendChild(docLink);\n",
              "      }\n",
              "    </script>\n",
              "  </div>\n",
              "\n",
              "\n",
              "<div id=\"df-849c6a53-7fdc-4020-b249-3cb9e8512b93\">\n",
              "  <button class=\"colab-df-quickchart\" onclick=\"quickchart('df-849c6a53-7fdc-4020-b249-3cb9e8512b93')\"\n",
              "            title=\"Suggest charts\"\n",
              "            style=\"display:none;\">\n",
              "\n",
              "<svg xmlns=\"http://www.w3.org/2000/svg\" height=\"24px\"viewBox=\"0 0 24 24\"\n",
              "     width=\"24px\">\n",
              "    <g>\n",
              "        <path d=\"M19 3H5c-1.1 0-2 .9-2 2v14c0 1.1.9 2 2 2h14c1.1 0 2-.9 2-2V5c0-1.1-.9-2-2-2zM9 17H7v-7h2v7zm4 0h-2V7h2v10zm4 0h-2v-4h2v4z\"/>\n",
              "    </g>\n",
              "</svg>\n",
              "  </button>\n",
              "\n",
              "<style>\n",
              "  .colab-df-quickchart {\n",
              "      --bg-color: #E8F0FE;\n",
              "      --fill-color: #1967D2;\n",
              "      --hover-bg-color: #E2EBFA;\n",
              "      --hover-fill-color: #174EA6;\n",
              "      --disabled-fill-color: #AAA;\n",
              "      --disabled-bg-color: #DDD;\n",
              "  }\n",
              "\n",
              "  [theme=dark] .colab-df-quickchart {\n",
              "      --bg-color: #3B4455;\n",
              "      --fill-color: #D2E3FC;\n",
              "      --hover-bg-color: #434B5C;\n",
              "      --hover-fill-color: #FFFFFF;\n",
              "      --disabled-bg-color: #3B4455;\n",
              "      --disabled-fill-color: #666;\n",
              "  }\n",
              "\n",
              "  .colab-df-quickchart {\n",
              "    background-color: var(--bg-color);\n",
              "    border: none;\n",
              "    border-radius: 50%;\n",
              "    cursor: pointer;\n",
              "    display: none;\n",
              "    fill: var(--fill-color);\n",
              "    height: 32px;\n",
              "    padding: 0;\n",
              "    width: 32px;\n",
              "  }\n",
              "\n",
              "  .colab-df-quickchart:hover {\n",
              "    background-color: var(--hover-bg-color);\n",
              "    box-shadow: 0 1px 2px rgba(60, 64, 67, 0.3), 0 1px 3px 1px rgba(60, 64, 67, 0.15);\n",
              "    fill: var(--button-hover-fill-color);\n",
              "  }\n",
              "\n",
              "  .colab-df-quickchart-complete:disabled,\n",
              "  .colab-df-quickchart-complete:disabled:hover {\n",
              "    background-color: var(--disabled-bg-color);\n",
              "    fill: var(--disabled-fill-color);\n",
              "    box-shadow: none;\n",
              "  }\n",
              "\n",
              "  .colab-df-spinner {\n",
              "    border: 2px solid var(--fill-color);\n",
              "    border-color: transparent;\n",
              "    border-bottom-color: var(--fill-color);\n",
              "    animation:\n",
              "      spin 1s steps(1) infinite;\n",
              "  }\n",
              "\n",
              "  @keyframes spin {\n",
              "    0% {\n",
              "      border-color: transparent;\n",
              "      border-bottom-color: var(--fill-color);\n",
              "      border-left-color: var(--fill-color);\n",
              "    }\n",
              "    20% {\n",
              "      border-color: transparent;\n",
              "      border-left-color: var(--fill-color);\n",
              "      border-top-color: var(--fill-color);\n",
              "    }\n",
              "    30% {\n",
              "      border-color: transparent;\n",
              "      border-left-color: var(--fill-color);\n",
              "      border-top-color: var(--fill-color);\n",
              "      border-right-color: var(--fill-color);\n",
              "    }\n",
              "    40% {\n",
              "      border-color: transparent;\n",
              "      border-right-color: var(--fill-color);\n",
              "      border-top-color: var(--fill-color);\n",
              "    }\n",
              "    60% {\n",
              "      border-color: transparent;\n",
              "      border-right-color: var(--fill-color);\n",
              "    }\n",
              "    80% {\n",
              "      border-color: transparent;\n",
              "      border-right-color: var(--fill-color);\n",
              "      border-bottom-color: var(--fill-color);\n",
              "    }\n",
              "    90% {\n",
              "      border-color: transparent;\n",
              "      border-bottom-color: var(--fill-color);\n",
              "    }\n",
              "  }\n",
              "</style>\n",
              "\n",
              "  <script>\n",
              "    async function quickchart(key) {\n",
              "      const quickchartButtonEl =\n",
              "        document.querySelector('#' + key + ' button');\n",
              "      quickchartButtonEl.disabled = true;  // To prevent multiple clicks.\n",
              "      quickchartButtonEl.classList.add('colab-df-spinner');\n",
              "      try {\n",
              "        const charts = await google.colab.kernel.invokeFunction(\n",
              "            'suggestCharts', [key], {});\n",
              "      } catch (error) {\n",
              "        console.error('Error during call to suggestCharts:', error);\n",
              "      }\n",
              "      quickchartButtonEl.classList.remove('colab-df-spinner');\n",
              "      quickchartButtonEl.classList.add('colab-df-quickchart-complete');\n",
              "    }\n",
              "    (() => {\n",
              "      let quickchartButtonEl =\n",
              "        document.querySelector('#df-849c6a53-7fdc-4020-b249-3cb9e8512b93 button');\n",
              "      quickchartButtonEl.style.display =\n",
              "        google.colab.kernel.accessAllowed ? 'block' : 'none';\n",
              "    })();\n",
              "  </script>\n",
              "</div>\n",
              "    </div>\n",
              "  </div>\n"
            ],
            "application/vnd.google.colaboratory.intrinsic+json": {
              "type": "dataframe",
              "variable_name": "df",
              "summary": "{\n  \"name\": \"df\",\n  \"rows\": 20659,\n  \"fields\": [\n    {\n      \"column\": \"Rating\",\n      \"properties\": {\n        \"dtype\": \"number\",\n        \"std\": 1,\n        \"min\": 1,\n        \"max\": 5,\n        \"num_unique_values\": 5,\n        \"samples\": [\n          4,\n          1,\n          2\n        ],\n        \"semantic_type\": \"\",\n        \"description\": \"\"\n      }\n    },\n    {\n      \"column\": \"Content\",\n      \"properties\": {\n        \"dtype\": \"string\",\n        \"num_unique_values\": 14797,\n        \"samples\": [\n          \"\\u0424\\u0438\\u0433\\u043d\\u044f \\u043f\\u043e\\u043b\\u043d\\u0430\\u044f\",\n          \"\\u041a\\u043b\\u0430\\u0441\\u0441\\u043d\\u043e\\u0435 \\u043f\\u0440\\u0438\\u043b\\u043e\\u0436\\u0435\\u043d\\u0438\\u0435, \\u0442\\u0430\\u043a \\u0443\\u0434\\u043e\\u0431\\u043d\\u043e!!!\",\n          \"\\u041e\\u0447\\u0435\\u043d\\u044c \\u0443\\u0434\\u043e\\u0431\\u043d\\u043e \\u0441\\u043f\\u0430\\u0441\\u0438\\u0431\\u043e \\u0437\\u0430 \\u043f\\u0440\\u0438\\u043b\\u043e\\u0436\\u0435\\u043d\\u0438\\u044f\"\n        ],\n        \"semantic_type\": \"\",\n        \"description\": \"\"\n      }\n    },\n    {\n      \"column\": \"Date\",\n      \"properties\": {\n        \"dtype\": \"object\",\n        \"num_unique_values\": 73,\n        \"samples\": [\n          \"2017-08-10\",\n          \"2017-06-10\",\n          \"2017-07-27\"\n        ],\n        \"semantic_type\": \"\",\n        \"description\": \"\"\n      }\n    }\n  ]\n}"
            }
          },
          "metadata": {},
          "execution_count": 6
        }
      ],
      "source": [
        "df = pd.read_excel(\"/content/отзывы за лето.xls\")\n",
        "df.head(30)"
      ]
    },
    {
      "cell_type": "code",
      "source": [
        "from google.colab import drive\n",
        "drive.mount('/content/drive')"
      ],
      "metadata": {
        "colab": {
          "base_uri": "https://localhost:8080/"
        },
        "id": "DiBS6p7vU833",
        "outputId": "53d41881-0f7f-4019-c8ee-696b4069d4bf"
      },
      "execution_count": 7,
      "outputs": [
        {
          "output_type": "stream",
          "name": "stdout",
          "text": [
            "Mounted at /content/drive\n"
          ]
        }
      ]
    },
    {
      "cell_type": "code",
      "source": [
        "\n",
        "df.loc[df['Rating']>3, 'class'] = 1\n",
        "df.loc[df['Rating']<3, 'class'] = 0"
      ],
      "metadata": {
        "id": "LaZ4PjYDYDQb"
      },
      "execution_count": 8,
      "outputs": []
    },
    {
      "cell_type": "code",
      "source": [
        "df.dropna(inplace=True)"
      ],
      "metadata": {
        "id": "Wf3o4ZyCaYki"
      },
      "execution_count": 9,
      "outputs": []
    },
    {
      "cell_type": "code",
      "source": [
        "df.isna().sum()"
      ],
      "metadata": {
        "colab": {
          "base_uri": "https://localhost:8080/"
        },
        "id": "9j3-O-F2ahaU",
        "outputId": "e32bbf8f-cadc-4105-f7da-8c3f9aa05cad"
      },
      "execution_count": 10,
      "outputs": [
        {
          "output_type": "execute_result",
          "data": {
            "text/plain": [
              "Rating     0\n",
              "Content    0\n",
              "Date       0\n",
              "class      0\n",
              "dtype: int64"
            ]
          },
          "metadata": {},
          "execution_count": 10
        }
      ]
    },
    {
      "cell_type": "markdown",
      "metadata": {
        "id": "qEyvOxoOJDTP"
      },
      "source": [
        "### Предобработка"
      ]
    },
    {
      "cell_type": "code",
      "source": [
        "sw = set(get_stop_words(\"ru\"))\n",
        "exclude = set(punctuation)\n",
        "morpher = MorphAnalyzer()\n",
        "\n",
        "def preprocess_text(txt):\n",
        "\n",
        "    txt = str(txt)\n",
        "    #txt = bytes(txt, encoding='utf8')\n",
        "    #txt = txt.decode(\"unicode_escape\")\n",
        "    txt = re.sub(r'http\\S+\\s*', '', txt) # удалит URL\n",
        "    txt = re.sub(r'RT|cc', '', txt) # удалит RT и cc\n",
        "    txt = re.sub(r'ха\\S+|ax\\S+', ' смешно ', txt)\n",
        "    txt = re.sub(r'\\S+\\)\\S+|\\S+:D\\S+|D\\S+', ' смешно ', txt)\n",
        "    txt = re.sub(r',|!', ' ', txt) # обход если слова разделяют только запятой или ! и пробела нет\n",
        "    txt = re.sub(r'приложение|антивирус', ' антивирус ', txt)\n",
        "    txt = re.sub('очень', ' ', txt)\n",
        "    txt = re.sub(r'\\S+\\(\\S+', ' грустно ', txt)\n",
        "    #txt = \" \".join(c for c in txt if c not in exclude)\n",
        "    txt = txt.lower()\n",
        "    txt = re.sub('\\s+', ' ', txt) # заменит пробельные символы на 1 пробел\n",
        "    txt = \"\".join(c for c in txt if c.isalpha() or c == ' ') # удалит все что не буква\n",
        "\n",
        "    txt = [morpher.parse(word)[0].normal_form for word in txt.split() if len(word) > 1] #word not in sw and\n",
        "    return \" \".join(txt)\n",
        "\n",
        "df['Content_1'] = df['Content'].apply(preprocess_text)\n"
      ],
      "metadata": {
        "id": "fQ1-rWEIb3Vy"
      },
      "execution_count": 11,
      "outputs": []
    },
    {
      "cell_type": "code",
      "source": [
        "df.head(40)"
      ],
      "metadata": {
        "colab": {
          "base_uri": "https://localhost:8080/",
          "height": 1000
        },
        "id": "mIWQk6OFcwv2",
        "outputId": "bcf8ec4d-9935-47a9-898c-075223690e57"
      },
      "execution_count": 12,
      "outputs": [
        {
          "output_type": "execute_result",
          "data": {
            "text/plain": [
              "    Rating  \\\n",
              "0   5        \n",
              "1   4        \n",
              "2   5        \n",
              "3   5        \n",
              "4   5        \n",
              "5   5        \n",
              "6   5        \n",
              "7   5        \n",
              "8   5        \n",
              "9   5        \n",
              "10  5        \n",
              "11  5        \n",
              "12  2        \n",
              "13  5        \n",
              "14  5        \n",
              "15  5        \n",
              "16  5        \n",
              "17  5        \n",
              "18  5        \n",
              "19  5        \n",
              "20  5        \n",
              "21  5        \n",
              "22  5        \n",
              "23  5        \n",
              "24  5        \n",
              "26  5        \n",
              "27  5        \n",
              "28  5        \n",
              "29  5        \n",
              "30  5        \n",
              "31  5        \n",
              "32  5        \n",
              "33  1        \n",
              "34  5        \n",
              "35  5        \n",
              "36  5        \n",
              "37  5        \n",
              "38  5        \n",
              "39  5        \n",
              "40  5        \n",
              "\n",
              "   Content                                                                                                                                                 \\\n",
              "0                                                                                                                                          It just works!   \n",
              "1   В целом удобноное приложение...из минусов хотят слишком большой доступ к персональным данным в телефоне,приходится пользоваться в ограниченном режиме   \n",
              "2                                                                                                                                             Отлично все   \n",
              "3                                                          Стал зависать на 1% работы антивируса. Дальше никуда. Ранее больше года пользовался нормально.   \n",
              "4                                                                                                                          Очень удобно, работает быстро.   \n",
              "5                                                                                                                                     Всё удобно норм 👍👍👍   \n",
              "6                                                                                                                               Очень удобное приложение.   \n",
              "7                                                                                                                                          Все устраивает   \n",
              "8                                                                      У меня работает все четко. В отличии от банкоматов, которые вечно зависают и тупят   \n",
              "9                                                                                                                                       Очень все хорошо👍   \n",
              "10                                                                                                                                                Все ок!   \n",
              "11                                                                                       Все нормально, кроме того что уведомление нельзя удалять!!!!!!!!   \n",
              "12                                                                  Не стартует без доступа к gps, sms, звонкам и адресной книге. Филиал фсб одним словом   \n",
              "13                                                                                                   Очень удобно, работает замечательно, подвисаний нет.   \n",
              "14                                                                                                                                           Очень удобно   \n",
              "15                                                                                                                                    Очень удобная штука   \n",
              "16                                                                                                                                    Отличное приложение   \n",
              "17                                                                                                                                       Удобно практично   \n",
              "18                                                                                              Очень удобное приложение, для оплаты платежей и переводов   \n",
              "19                                                                                                                                        Удобно и быстро   \n",
              "20                            Очень удобное приложение, вот можно было бы транспортные карты пополнять через приложение, так вообще замечательно было бы.   \n",
              "21                                                                                                      Жаль, что история ВСЕХ движений под семью замками   \n",
              "22                                                                                                                                     Хорошее приложение   \n",
              "23                                                                                                                             Удобно и без лишних хлопот   \n",
              "24                                                                                                                                               Полезное   \n",
              "26                                                                                                           Всё хорошо запустились, Спасибо вам большое.   \n",
              "27                                                                                               Если бы ещё сбербанк так же отлично работал в живую!.. )   \n",
              "28                                                                                                                                 Очень удобно, спасибо.   \n",
              "29                                                                                                                 Платежи работают как швейцарские часы!   \n",
              "30                                                                                                                                                  Супер   \n",
              "31                                                                                                                                       Быстро,комфортно   \n",
              "32                                                                                                                                           Очень удобно   \n",
              "33                                                                                                                Не работает поиск по наименованию служб   \n",
              "34                                                                                                                                                Молодцы   \n",
              "35                                                                                                                                                  Круто   \n",
              "36                                                                                                                                             Хорошечно!   \n",
              "37                                                                            Пользуюсь не долго, но на первый взгляд все удобно и не вызывает нареканий.   \n",
              "38                                                                                                                                            Мне удобно.   \n",
              "39                                                                                             Хорошее приложение,пользуюсь больше двух лет,нареканий нет   \n",
              "40                                                                                                                                      Все хорошо и мило   \n",
              "\n",
              "   Date         class  \\\n",
              "0   2017-08-14  1.0     \n",
              "1   2017-08-14  1.0     \n",
              "2   2017-08-14  1.0     \n",
              "3   2017-08-14  1.0     \n",
              "4   2017-08-14  1.0     \n",
              "5   2017-08-14  1.0     \n",
              "6   2017-08-14  1.0     \n",
              "7   2017-08-14  1.0     \n",
              "8   2017-08-14  1.0     \n",
              "9   2017-08-14  1.0     \n",
              "10  2017-08-14  1.0     \n",
              "11  2017-08-14  1.0     \n",
              "12  2017-08-14  0.0     \n",
              "13  2017-08-14  1.0     \n",
              "14  2017-08-14  1.0     \n",
              "15  2017-08-14  1.0     \n",
              "16  2017-08-14  1.0     \n",
              "17  2017-08-14  1.0     \n",
              "18  2017-08-14  1.0     \n",
              "19  2017-08-14  1.0     \n",
              "20  2017-08-14  1.0     \n",
              "21  2017-08-14  1.0     \n",
              "22  2017-08-14  1.0     \n",
              "23  2017-08-14  1.0     \n",
              "24  2017-08-14  1.0     \n",
              "26  2017-08-14  1.0     \n",
              "27  2017-08-14  1.0     \n",
              "28  2017-08-14  1.0     \n",
              "29  2017-08-14  1.0     \n",
              "30  2017-08-14  1.0     \n",
              "31  2017-08-14  1.0     \n",
              "32  2017-08-14  1.0     \n",
              "33  2017-08-14  0.0     \n",
              "34  2017-08-14  1.0     \n",
              "35  2017-08-14  1.0     \n",
              "36  2017-08-14  1.0     \n",
              "37  2017-08-14  1.0     \n",
              "38  2017-08-14  1.0     \n",
              "39  2017-08-14  1.0     \n",
              "40  2017-08-14  1.0     \n",
              "\n",
              "   Content_1                                                                                                                                  \n",
              "0                                                                                                                              it just works  \n",
              "1   целое удобноной антивирус из минус хотеть слишком большой доступ персональный данные телефон приходиться пользоваться ограниченный режим  \n",
              "2                                                                                                                                отлично всё  \n",
              "3                                                 стать зависать на работа антивирус далёкий никуда ранее большой год пользоваться нормально  \n",
              "4                                                                                                               очень удобно работать быстро  \n",
              "5                                                                                                                           всё удобно норма  \n",
              "6                                                                                                                    очень удобный антивирус  \n",
              "7                                                                                                                             всё устраивать  \n",
              "8                                                                     я работать всё чётко отличие от банкомат который вечно зависать тупить  \n",
              "9                                                                                                                           очень всё хорошо  \n",
              "10                                                                                                                                 всё около  \n",
              "11                                                                                    всё нормально кроме тот что уведомление нельзя удалять  \n",
              "12                                                              не стартовать без доступ gps sms звонок адресный книга филиал фсб один слово  \n",
              "13                                                                                        очень удобно работать замечательный подвисания нет  \n",
              "14                                                                                                                              очень удобно  \n",
              "15                                                                                                                       очень удобный штука  \n",
              "16                                                                                                                        отличный антивирус  \n",
              "17                                                                                                                          удобно практично  \n",
              "18                                                                                         очень удобный антивирус для оплата платёж перевод  \n",
              "19                                                                                                                             удобно быстро  \n",
              "20                   очень удобный антивирус вот можно быть бы транспортный карта пополнять через антивирус так вообще замечательный быть бы  \n",
              "21                                                                                            жаль что история весь движение под семья замок  \n",
              "22                                                                                                                         хороший антивирус  \n",
              "23                                                                                                                 удобно без лишний хлопоты  \n",
              "24                                                                                                                                  полезный  \n",
              "26                                                                                                 всё хорошо запуститься спасибо вы большой  \n",
              "27                                                                                        если бы ещё сбербанк так же отлично работать живой  \n",
              "28                                                                                                                      очень удобно спасибо  \n",
              "29                                                                                                      платёж работать как швейцарский часы  \n",
              "30                                                                                                                                     супер  \n",
              "31                                                                                                                          быстро комфортно  \n",
              "32                                                                                                                              очень удобно  \n",
              "33                                                                                                  не работать поиск по наименование служба  \n",
              "34                                                                                                                                   молодец  \n",
              "35                                                                                                                                     круто  \n",
              "36                                                                                                                                хорошечный  \n",
              "37                                                                пользоваться не долго но на первый взгляд всё удобно не вызывать нарекание  \n",
              "38                                                                                                                                  я удобно  \n",
              "39                                                                              хороший антивирус пользоваться большой два год нарекание нет  \n",
              "40                                                                                                                           всё хорошо мило  "
            ],
            "text/html": [
              "\n",
              "  <div id=\"df-584eda02-157e-43c4-9ee0-d0a097e8c2aa\" class=\"colab-df-container\">\n",
              "    <div>\n",
              "<style scoped>\n",
              "    .dataframe tbody tr th:only-of-type {\n",
              "        vertical-align: middle;\n",
              "    }\n",
              "\n",
              "    .dataframe tbody tr th {\n",
              "        vertical-align: top;\n",
              "    }\n",
              "\n",
              "    .dataframe thead th {\n",
              "        text-align: right;\n",
              "    }\n",
              "</style>\n",
              "<table border=\"1\" class=\"dataframe\">\n",
              "  <thead>\n",
              "    <tr style=\"text-align: left;\">\n",
              "      <th></th>\n",
              "      <th>Rating</th>\n",
              "      <th>Content</th>\n",
              "      <th>Date</th>\n",
              "      <th>class</th>\n",
              "      <th>Content_1</th>\n",
              "    </tr>\n",
              "  </thead>\n",
              "  <tbody>\n",
              "    <tr>\n",
              "      <th>0</th>\n",
              "      <td>5</td>\n",
              "      <td>It just works!</td>\n",
              "      <td>2017-08-14</td>\n",
              "      <td>1.0</td>\n",
              "      <td>it just works</td>\n",
              "    </tr>\n",
              "    <tr>\n",
              "      <th>1</th>\n",
              "      <td>4</td>\n",
              "      <td>В целом удобноное приложение...из минусов хотят слишком большой доступ к персональным данным в телефоне,приходится пользоваться в ограниченном режиме</td>\n",
              "      <td>2017-08-14</td>\n",
              "      <td>1.0</td>\n",
              "      <td>целое удобноной антивирус из минус хотеть слишком большой доступ персональный данные телефон приходиться пользоваться ограниченный режим</td>\n",
              "    </tr>\n",
              "    <tr>\n",
              "      <th>2</th>\n",
              "      <td>5</td>\n",
              "      <td>Отлично все</td>\n",
              "      <td>2017-08-14</td>\n",
              "      <td>1.0</td>\n",
              "      <td>отлично всё</td>\n",
              "    </tr>\n",
              "    <tr>\n",
              "      <th>3</th>\n",
              "      <td>5</td>\n",
              "      <td>Стал зависать на 1% работы антивируса. Дальше никуда. Ранее больше года пользовался нормально.</td>\n",
              "      <td>2017-08-14</td>\n",
              "      <td>1.0</td>\n",
              "      <td>стать зависать на работа антивирус далёкий никуда ранее большой год пользоваться нормально</td>\n",
              "    </tr>\n",
              "    <tr>\n",
              "      <th>4</th>\n",
              "      <td>5</td>\n",
              "      <td>Очень удобно, работает быстро.</td>\n",
              "      <td>2017-08-14</td>\n",
              "      <td>1.0</td>\n",
              "      <td>очень удобно работать быстро</td>\n",
              "    </tr>\n",
              "    <tr>\n",
              "      <th>5</th>\n",
              "      <td>5</td>\n",
              "      <td>Всё удобно норм 👍👍👍</td>\n",
              "      <td>2017-08-14</td>\n",
              "      <td>1.0</td>\n",
              "      <td>всё удобно норма</td>\n",
              "    </tr>\n",
              "    <tr>\n",
              "      <th>6</th>\n",
              "      <td>5</td>\n",
              "      <td>Очень удобное приложение.</td>\n",
              "      <td>2017-08-14</td>\n",
              "      <td>1.0</td>\n",
              "      <td>очень удобный антивирус</td>\n",
              "    </tr>\n",
              "    <tr>\n",
              "      <th>7</th>\n",
              "      <td>5</td>\n",
              "      <td>Все устраивает</td>\n",
              "      <td>2017-08-14</td>\n",
              "      <td>1.0</td>\n",
              "      <td>всё устраивать</td>\n",
              "    </tr>\n",
              "    <tr>\n",
              "      <th>8</th>\n",
              "      <td>5</td>\n",
              "      <td>У меня работает все четко. В отличии от банкоматов, которые вечно зависают и тупят</td>\n",
              "      <td>2017-08-14</td>\n",
              "      <td>1.0</td>\n",
              "      <td>я работать всё чётко отличие от банкомат который вечно зависать тупить</td>\n",
              "    </tr>\n",
              "    <tr>\n",
              "      <th>9</th>\n",
              "      <td>5</td>\n",
              "      <td>Очень все хорошо👍</td>\n",
              "      <td>2017-08-14</td>\n",
              "      <td>1.0</td>\n",
              "      <td>очень всё хорошо</td>\n",
              "    </tr>\n",
              "    <tr>\n",
              "      <th>10</th>\n",
              "      <td>5</td>\n",
              "      <td>Все ок!</td>\n",
              "      <td>2017-08-14</td>\n",
              "      <td>1.0</td>\n",
              "      <td>всё около</td>\n",
              "    </tr>\n",
              "    <tr>\n",
              "      <th>11</th>\n",
              "      <td>5</td>\n",
              "      <td>Все нормально, кроме того что уведомление нельзя удалять!!!!!!!!</td>\n",
              "      <td>2017-08-14</td>\n",
              "      <td>1.0</td>\n",
              "      <td>всё нормально кроме тот что уведомление нельзя удалять</td>\n",
              "    </tr>\n",
              "    <tr>\n",
              "      <th>12</th>\n",
              "      <td>2</td>\n",
              "      <td>Не стартует без доступа к gps, sms, звонкам и адресной книге. Филиал фсб одним словом</td>\n",
              "      <td>2017-08-14</td>\n",
              "      <td>0.0</td>\n",
              "      <td>не стартовать без доступ gps sms звонок адресный книга филиал фсб один слово</td>\n",
              "    </tr>\n",
              "    <tr>\n",
              "      <th>13</th>\n",
              "      <td>5</td>\n",
              "      <td>Очень удобно, работает замечательно, подвисаний нет.</td>\n",
              "      <td>2017-08-14</td>\n",
              "      <td>1.0</td>\n",
              "      <td>очень удобно работать замечательный подвисания нет</td>\n",
              "    </tr>\n",
              "    <tr>\n",
              "      <th>14</th>\n",
              "      <td>5</td>\n",
              "      <td>Очень удобно</td>\n",
              "      <td>2017-08-14</td>\n",
              "      <td>1.0</td>\n",
              "      <td>очень удобно</td>\n",
              "    </tr>\n",
              "    <tr>\n",
              "      <th>15</th>\n",
              "      <td>5</td>\n",
              "      <td>Очень удобная штука</td>\n",
              "      <td>2017-08-14</td>\n",
              "      <td>1.0</td>\n",
              "      <td>очень удобный штука</td>\n",
              "    </tr>\n",
              "    <tr>\n",
              "      <th>16</th>\n",
              "      <td>5</td>\n",
              "      <td>Отличное приложение</td>\n",
              "      <td>2017-08-14</td>\n",
              "      <td>1.0</td>\n",
              "      <td>отличный антивирус</td>\n",
              "    </tr>\n",
              "    <tr>\n",
              "      <th>17</th>\n",
              "      <td>5</td>\n",
              "      <td>Удобно практично</td>\n",
              "      <td>2017-08-14</td>\n",
              "      <td>1.0</td>\n",
              "      <td>удобно практично</td>\n",
              "    </tr>\n",
              "    <tr>\n",
              "      <th>18</th>\n",
              "      <td>5</td>\n",
              "      <td>Очень удобное приложение, для оплаты платежей и переводов</td>\n",
              "      <td>2017-08-14</td>\n",
              "      <td>1.0</td>\n",
              "      <td>очень удобный антивирус для оплата платёж перевод</td>\n",
              "    </tr>\n",
              "    <tr>\n",
              "      <th>19</th>\n",
              "      <td>5</td>\n",
              "      <td>Удобно и быстро</td>\n",
              "      <td>2017-08-14</td>\n",
              "      <td>1.0</td>\n",
              "      <td>удобно быстро</td>\n",
              "    </tr>\n",
              "    <tr>\n",
              "      <th>20</th>\n",
              "      <td>5</td>\n",
              "      <td>Очень удобное приложение, вот можно было бы транспортные карты пополнять через приложение, так вообще замечательно было бы.</td>\n",
              "      <td>2017-08-14</td>\n",
              "      <td>1.0</td>\n",
              "      <td>очень удобный антивирус вот можно быть бы транспортный карта пополнять через антивирус так вообще замечательный быть бы</td>\n",
              "    </tr>\n",
              "    <tr>\n",
              "      <th>21</th>\n",
              "      <td>5</td>\n",
              "      <td>Жаль, что история ВСЕХ движений под семью замками</td>\n",
              "      <td>2017-08-14</td>\n",
              "      <td>1.0</td>\n",
              "      <td>жаль что история весь движение под семья замок</td>\n",
              "    </tr>\n",
              "    <tr>\n",
              "      <th>22</th>\n",
              "      <td>5</td>\n",
              "      <td>Хорошее приложение</td>\n",
              "      <td>2017-08-14</td>\n",
              "      <td>1.0</td>\n",
              "      <td>хороший антивирус</td>\n",
              "    </tr>\n",
              "    <tr>\n",
              "      <th>23</th>\n",
              "      <td>5</td>\n",
              "      <td>Удобно и без лишних хлопот</td>\n",
              "      <td>2017-08-14</td>\n",
              "      <td>1.0</td>\n",
              "      <td>удобно без лишний хлопоты</td>\n",
              "    </tr>\n",
              "    <tr>\n",
              "      <th>24</th>\n",
              "      <td>5</td>\n",
              "      <td>Полезное</td>\n",
              "      <td>2017-08-14</td>\n",
              "      <td>1.0</td>\n",
              "      <td>полезный</td>\n",
              "    </tr>\n",
              "    <tr>\n",
              "      <th>26</th>\n",
              "      <td>5</td>\n",
              "      <td>Всё хорошо запустились, Спасибо вам большое.</td>\n",
              "      <td>2017-08-14</td>\n",
              "      <td>1.0</td>\n",
              "      <td>всё хорошо запуститься спасибо вы большой</td>\n",
              "    </tr>\n",
              "    <tr>\n",
              "      <th>27</th>\n",
              "      <td>5</td>\n",
              "      <td>Если бы ещё сбербанк так же отлично работал в живую!.. )</td>\n",
              "      <td>2017-08-14</td>\n",
              "      <td>1.0</td>\n",
              "      <td>если бы ещё сбербанк так же отлично работать живой</td>\n",
              "    </tr>\n",
              "    <tr>\n",
              "      <th>28</th>\n",
              "      <td>5</td>\n",
              "      <td>Очень удобно, спасибо.</td>\n",
              "      <td>2017-08-14</td>\n",
              "      <td>1.0</td>\n",
              "      <td>очень удобно спасибо</td>\n",
              "    </tr>\n",
              "    <tr>\n",
              "      <th>29</th>\n",
              "      <td>5</td>\n",
              "      <td>Платежи работают как швейцарские часы!</td>\n",
              "      <td>2017-08-14</td>\n",
              "      <td>1.0</td>\n",
              "      <td>платёж работать как швейцарский часы</td>\n",
              "    </tr>\n",
              "    <tr>\n",
              "      <th>30</th>\n",
              "      <td>5</td>\n",
              "      <td>Супер</td>\n",
              "      <td>2017-08-14</td>\n",
              "      <td>1.0</td>\n",
              "      <td>супер</td>\n",
              "    </tr>\n",
              "    <tr>\n",
              "      <th>31</th>\n",
              "      <td>5</td>\n",
              "      <td>Быстро,комфортно</td>\n",
              "      <td>2017-08-14</td>\n",
              "      <td>1.0</td>\n",
              "      <td>быстро комфортно</td>\n",
              "    </tr>\n",
              "    <tr>\n",
              "      <th>32</th>\n",
              "      <td>5</td>\n",
              "      <td>Очень удобно</td>\n",
              "      <td>2017-08-14</td>\n",
              "      <td>1.0</td>\n",
              "      <td>очень удобно</td>\n",
              "    </tr>\n",
              "    <tr>\n",
              "      <th>33</th>\n",
              "      <td>1</td>\n",
              "      <td>Не работает поиск по наименованию служб</td>\n",
              "      <td>2017-08-14</td>\n",
              "      <td>0.0</td>\n",
              "      <td>не работать поиск по наименование служба</td>\n",
              "    </tr>\n",
              "    <tr>\n",
              "      <th>34</th>\n",
              "      <td>5</td>\n",
              "      <td>Молодцы</td>\n",
              "      <td>2017-08-14</td>\n",
              "      <td>1.0</td>\n",
              "      <td>молодец</td>\n",
              "    </tr>\n",
              "    <tr>\n",
              "      <th>35</th>\n",
              "      <td>5</td>\n",
              "      <td>Круто</td>\n",
              "      <td>2017-08-14</td>\n",
              "      <td>1.0</td>\n",
              "      <td>круто</td>\n",
              "    </tr>\n",
              "    <tr>\n",
              "      <th>36</th>\n",
              "      <td>5</td>\n",
              "      <td>Хорошечно!</td>\n",
              "      <td>2017-08-14</td>\n",
              "      <td>1.0</td>\n",
              "      <td>хорошечный</td>\n",
              "    </tr>\n",
              "    <tr>\n",
              "      <th>37</th>\n",
              "      <td>5</td>\n",
              "      <td>Пользуюсь не долго, но на первый взгляд все удобно и не вызывает нареканий.</td>\n",
              "      <td>2017-08-14</td>\n",
              "      <td>1.0</td>\n",
              "      <td>пользоваться не долго но на первый взгляд всё удобно не вызывать нарекание</td>\n",
              "    </tr>\n",
              "    <tr>\n",
              "      <th>38</th>\n",
              "      <td>5</td>\n",
              "      <td>Мне удобно.</td>\n",
              "      <td>2017-08-14</td>\n",
              "      <td>1.0</td>\n",
              "      <td>я удобно</td>\n",
              "    </tr>\n",
              "    <tr>\n",
              "      <th>39</th>\n",
              "      <td>5</td>\n",
              "      <td>Хорошее приложение,пользуюсь больше двух лет,нареканий нет</td>\n",
              "      <td>2017-08-14</td>\n",
              "      <td>1.0</td>\n",
              "      <td>хороший антивирус пользоваться большой два год нарекание нет</td>\n",
              "    </tr>\n",
              "    <tr>\n",
              "      <th>40</th>\n",
              "      <td>5</td>\n",
              "      <td>Все хорошо и мило</td>\n",
              "      <td>2017-08-14</td>\n",
              "      <td>1.0</td>\n",
              "      <td>всё хорошо мило</td>\n",
              "    </tr>\n",
              "  </tbody>\n",
              "</table>\n",
              "</div>\n",
              "    <div class=\"colab-df-buttons\">\n",
              "\n",
              "  <div class=\"colab-df-container\">\n",
              "    <button class=\"colab-df-convert\" onclick=\"convertToInteractive('df-584eda02-157e-43c4-9ee0-d0a097e8c2aa')\"\n",
              "            title=\"Convert this dataframe to an interactive table.\"\n",
              "            style=\"display:none;\">\n",
              "\n",
              "  <svg xmlns=\"http://www.w3.org/2000/svg\" height=\"24px\" viewBox=\"0 -960 960 960\">\n",
              "    <path d=\"M120-120v-720h720v720H120Zm60-500h600v-160H180v160Zm220 220h160v-160H400v160Zm0 220h160v-160H400v160ZM180-400h160v-160H180v160Zm440 0h160v-160H620v160ZM180-180h160v-160H180v160Zm440 0h160v-160H620v160Z\"/>\n",
              "  </svg>\n",
              "    </button>\n",
              "\n",
              "  <style>\n",
              "    .colab-df-container {\n",
              "      display:flex;\n",
              "      gap: 12px;\n",
              "    }\n",
              "\n",
              "    .colab-df-convert {\n",
              "      background-color: #E8F0FE;\n",
              "      border: none;\n",
              "      border-radius: 50%;\n",
              "      cursor: pointer;\n",
              "      display: none;\n",
              "      fill: #1967D2;\n",
              "      height: 32px;\n",
              "      padding: 0 0 0 0;\n",
              "      width: 32px;\n",
              "    }\n",
              "\n",
              "    .colab-df-convert:hover {\n",
              "      background-color: #E2EBFA;\n",
              "      box-shadow: 0px 1px 2px rgba(60, 64, 67, 0.3), 0px 1px 3px 1px rgba(60, 64, 67, 0.15);\n",
              "      fill: #174EA6;\n",
              "    }\n",
              "\n",
              "    .colab-df-buttons div {\n",
              "      margin-bottom: 4px;\n",
              "    }\n",
              "\n",
              "    [theme=dark] .colab-df-convert {\n",
              "      background-color: #3B4455;\n",
              "      fill: #D2E3FC;\n",
              "    }\n",
              "\n",
              "    [theme=dark] .colab-df-convert:hover {\n",
              "      background-color: #434B5C;\n",
              "      box-shadow: 0px 1px 3px 1px rgba(0, 0, 0, 0.15);\n",
              "      filter: drop-shadow(0px 1px 2px rgba(0, 0, 0, 0.3));\n",
              "      fill: #FFFFFF;\n",
              "    }\n",
              "  </style>\n",
              "\n",
              "    <script>\n",
              "      const buttonEl =\n",
              "        document.querySelector('#df-584eda02-157e-43c4-9ee0-d0a097e8c2aa button.colab-df-convert');\n",
              "      buttonEl.style.display =\n",
              "        google.colab.kernel.accessAllowed ? 'block' : 'none';\n",
              "\n",
              "      async function convertToInteractive(key) {\n",
              "        const element = document.querySelector('#df-584eda02-157e-43c4-9ee0-d0a097e8c2aa');\n",
              "        const dataTable =\n",
              "          await google.colab.kernel.invokeFunction('convertToInteractive',\n",
              "                                                    [key], {});\n",
              "        if (!dataTable) return;\n",
              "\n",
              "        const docLinkHtml = 'Like what you see? Visit the ' +\n",
              "          '<a target=\"_blank\" href=https://colab.research.google.com/notebooks/data_table.ipynb>data table notebook</a>'\n",
              "          + ' to learn more about interactive tables.';\n",
              "        element.innerHTML = '';\n",
              "        dataTable['output_type'] = 'display_data';\n",
              "        await google.colab.output.renderOutput(dataTable, element);\n",
              "        const docLink = document.createElement('div');\n",
              "        docLink.innerHTML = docLinkHtml;\n",
              "        element.appendChild(docLink);\n",
              "      }\n",
              "    </script>\n",
              "  </div>\n",
              "\n",
              "\n",
              "<div id=\"df-7498101d-2ab0-43ad-ac4b-e92c68009528\">\n",
              "  <button class=\"colab-df-quickchart\" onclick=\"quickchart('df-7498101d-2ab0-43ad-ac4b-e92c68009528')\"\n",
              "            title=\"Suggest charts\"\n",
              "            style=\"display:none;\">\n",
              "\n",
              "<svg xmlns=\"http://www.w3.org/2000/svg\" height=\"24px\"viewBox=\"0 0 24 24\"\n",
              "     width=\"24px\">\n",
              "    <g>\n",
              "        <path d=\"M19 3H5c-1.1 0-2 .9-2 2v14c0 1.1.9 2 2 2h14c1.1 0 2-.9 2-2V5c0-1.1-.9-2-2-2zM9 17H7v-7h2v7zm4 0h-2V7h2v10zm4 0h-2v-4h2v4z\"/>\n",
              "    </g>\n",
              "</svg>\n",
              "  </button>\n",
              "\n",
              "<style>\n",
              "  .colab-df-quickchart {\n",
              "      --bg-color: #E8F0FE;\n",
              "      --fill-color: #1967D2;\n",
              "      --hover-bg-color: #E2EBFA;\n",
              "      --hover-fill-color: #174EA6;\n",
              "      --disabled-fill-color: #AAA;\n",
              "      --disabled-bg-color: #DDD;\n",
              "  }\n",
              "\n",
              "  [theme=dark] .colab-df-quickchart {\n",
              "      --bg-color: #3B4455;\n",
              "      --fill-color: #D2E3FC;\n",
              "      --hover-bg-color: #434B5C;\n",
              "      --hover-fill-color: #FFFFFF;\n",
              "      --disabled-bg-color: #3B4455;\n",
              "      --disabled-fill-color: #666;\n",
              "  }\n",
              "\n",
              "  .colab-df-quickchart {\n",
              "    background-color: var(--bg-color);\n",
              "    border: none;\n",
              "    border-radius: 50%;\n",
              "    cursor: pointer;\n",
              "    display: none;\n",
              "    fill: var(--fill-color);\n",
              "    height: 32px;\n",
              "    padding: 0;\n",
              "    width: 32px;\n",
              "  }\n",
              "\n",
              "  .colab-df-quickchart:hover {\n",
              "    background-color: var(--hover-bg-color);\n",
              "    box-shadow: 0 1px 2px rgba(60, 64, 67, 0.3), 0 1px 3px 1px rgba(60, 64, 67, 0.15);\n",
              "    fill: var(--button-hover-fill-color);\n",
              "  }\n",
              "\n",
              "  .colab-df-quickchart-complete:disabled,\n",
              "  .colab-df-quickchart-complete:disabled:hover {\n",
              "    background-color: var(--disabled-bg-color);\n",
              "    fill: var(--disabled-fill-color);\n",
              "    box-shadow: none;\n",
              "  }\n",
              "\n",
              "  .colab-df-spinner {\n",
              "    border: 2px solid var(--fill-color);\n",
              "    border-color: transparent;\n",
              "    border-bottom-color: var(--fill-color);\n",
              "    animation:\n",
              "      spin 1s steps(1) infinite;\n",
              "  }\n",
              "\n",
              "  @keyframes spin {\n",
              "    0% {\n",
              "      border-color: transparent;\n",
              "      border-bottom-color: var(--fill-color);\n",
              "      border-left-color: var(--fill-color);\n",
              "    }\n",
              "    20% {\n",
              "      border-color: transparent;\n",
              "      border-left-color: var(--fill-color);\n",
              "      border-top-color: var(--fill-color);\n",
              "    }\n",
              "    30% {\n",
              "      border-color: transparent;\n",
              "      border-left-color: var(--fill-color);\n",
              "      border-top-color: var(--fill-color);\n",
              "      border-right-color: var(--fill-color);\n",
              "    }\n",
              "    40% {\n",
              "      border-color: transparent;\n",
              "      border-right-color: var(--fill-color);\n",
              "      border-top-color: var(--fill-color);\n",
              "    }\n",
              "    60% {\n",
              "      border-color: transparent;\n",
              "      border-right-color: var(--fill-color);\n",
              "    }\n",
              "    80% {\n",
              "      border-color: transparent;\n",
              "      border-right-color: var(--fill-color);\n",
              "      border-bottom-color: var(--fill-color);\n",
              "    }\n",
              "    90% {\n",
              "      border-color: transparent;\n",
              "      border-bottom-color: var(--fill-color);\n",
              "    }\n",
              "  }\n",
              "</style>\n",
              "\n",
              "  <script>\n",
              "    async function quickchart(key) {\n",
              "      const quickchartButtonEl =\n",
              "        document.querySelector('#' + key + ' button');\n",
              "      quickchartButtonEl.disabled = true;  // To prevent multiple clicks.\n",
              "      quickchartButtonEl.classList.add('colab-df-spinner');\n",
              "      try {\n",
              "        const charts = await google.colab.kernel.invokeFunction(\n",
              "            'suggestCharts', [key], {});\n",
              "      } catch (error) {\n",
              "        console.error('Error during call to suggestCharts:', error);\n",
              "      }\n",
              "      quickchartButtonEl.classList.remove('colab-df-spinner');\n",
              "      quickchartButtonEl.classList.add('colab-df-quickchart-complete');\n",
              "    }\n",
              "    (() => {\n",
              "      let quickchartButtonEl =\n",
              "        document.querySelector('#df-7498101d-2ab0-43ad-ac4b-e92c68009528 button');\n",
              "      quickchartButtonEl.style.display =\n",
              "        google.colab.kernel.accessAllowed ? 'block' : 'none';\n",
              "    })();\n",
              "  </script>\n",
              "</div>\n",
              "    </div>\n",
              "  </div>\n"
            ],
            "application/vnd.google.colaboratory.intrinsic+json": {
              "type": "dataframe",
              "variable_name": "df",
              "summary": "{\n  \"name\": \"df\",\n  \"rows\": 19745,\n  \"fields\": [\n    {\n      \"column\": \"Rating\",\n      \"properties\": {\n        \"dtype\": \"number\",\n        \"std\": 1,\n        \"min\": 1,\n        \"max\": 5,\n        \"num_unique_values\": 4,\n        \"samples\": [\n          4,\n          1,\n          5\n        ],\n        \"semantic_type\": \"\",\n        \"description\": \"\"\n      }\n    },\n    {\n      \"column\": \"Content\",\n      \"properties\": {\n        \"dtype\": \"string\",\n        \"num_unique_values\": 13915,\n        \"samples\": [\n          \"\\u0418\\u043d\\u043e\\u0433\\u0434\\u0430 \\u043d\\u0435 \\u043c\\u043e\\u0433\\u0443 \\u0437\\u0430\\u0439\\u0442\\u0438, \\u0430 \\u0432 \\u0446\\u0435\\u043b\\u043e\\u043c \\u0443\\u0441\\u0442\\u0440\\u0430\\u0438\\u0432\\u0430\\u0435\\u0442 \\u043f\\u043e \\u0432\\u0441\\u0435\\u043c \\u043d\\u0430\\u043f\\u0440\\u0430\\u0432\\u043b\\u0435\\u043d\\u0438\\u044f\\u043c.\",\n          \"\\u041f\\u043e\\u043b\\u044c\\u0437\\u0443\\u044e\\u0441\\u044c \\u043f\\u043e\\u0441\\u0442\\u043e\\u044f\\u043d\\u043d\\u043e\",\n          \"\\u0412\\u0441\\u0435 \\u0440\\u0430\\u0434\\u0443\\u0435\\u0442\"\n        ],\n        \"semantic_type\": \"\",\n        \"description\": \"\"\n      }\n    },\n    {\n      \"column\": \"Date\",\n      \"properties\": {\n        \"dtype\": \"object\",\n        \"num_unique_values\": 73,\n        \"samples\": [\n          \"2017-08-10\",\n          \"2017-06-10\",\n          \"2017-07-27\"\n        ],\n        \"semantic_type\": \"\",\n        \"description\": \"\"\n      }\n    },\n    {\n      \"column\": \"class\",\n      \"properties\": {\n        \"dtype\": \"number\",\n        \"std\": 0.3601437452625926,\n        \"min\": 0.0,\n        \"max\": 1.0,\n        \"num_unique_values\": 2,\n        \"samples\": [\n          0.0,\n          1.0\n        ],\n        \"semantic_type\": \"\",\n        \"description\": \"\"\n      }\n    },\n    {\n      \"column\": \"Content_1\",\n      \"properties\": {\n        \"dtype\": \"string\",\n        \"num_unique_values\": 12095,\n        \"samples\": [\n          \"\\u0431\\u044b\\u0442\\u044c \\u0443\\u0434\\u0430\\u043b\\u0438\\u0442\\u044c \\u0432\\u0441\\u0451 \\u0448\\u0430\\u0431\\u043b\\u043e\\u043d \\u043f\\u043b\\u0430\\u0442\\u0451\\u0436 \\u043f\\u0440\\u0438 \\u043f\\u043e\\u0438\\u0441\\u043a \\u0434\\u043b\\u044f \\u0434\\u043b\\u044f \\u043e\\u043f\\u043b\\u0430\\u0442\\u0430 \\u0432\\u0441\\u0451 \\u0432\\u0438\\u0441\\u043d\\u0443\\u0442\\u044c \\u043d\\u0430 \\u0437\\u0430\\u0433\\u0440\\u0443\\u0437\\u043a\\u0430\",\n          \"\\u0441\\u043f\\u0430\\u0441\\u0438\\u0431\\u043e \\u0437\\u0430 \\u0440\\u0430\\u0431\\u043e\\u044c \\u0441\\u0432\\u0435\\u0442\\u043b\\u0430\\u043d\\u0430\"\n        ],\n        \"semantic_type\": \"\",\n        \"description\": \"\"\n      }\n    }\n  ]\n}"
            }
          },
          "metadata": {},
          "execution_count": 12
        }
      ]
    },
    {
      "cell_type": "code",
      "execution_count": 13,
      "metadata": {
        "id": "C4o9QgmWI3Pw"
      },
      "outputs": [],
      "source": [
        "train_corpus = \" \".join(df[\"Content_1\"])\n",
        "train_corpus = train_corpus.lower()"
      ]
    },
    {
      "cell_type": "code",
      "execution_count": 14,
      "metadata": {
        "id": "Hed2ySbwJH6B"
      },
      "outputs": [],
      "source": [
        "tokens = word_tokenize(train_corpus)"
      ]
    },
    {
      "cell_type": "markdown",
      "metadata": {
        "id": "yJ8T0fwYJYJX"
      },
      "source": [
        "Отфильтруем данные\n",
        "\n",
        "и соберём в корпус N наиболее частых токенов"
      ]
    },
    {
      "cell_type": "code",
      "execution_count": 15,
      "metadata": {
        "id": "EXOLVK1tJLT8"
      },
      "outputs": [],
      "source": [
        "tokens_filtered = [word for word in tokens if word.isalnum()]"
      ]
    },
    {
      "cell_type": "code",
      "execution_count": 16,
      "metadata": {
        "id": "8qCQH5nIJoiB"
      },
      "outputs": [],
      "source": [
        "from nltk.probability import FreqDist\n",
        "dist = FreqDist(tokens_filtered)\n",
        "tokens_filtered_top = [pair[0] for pair in dist.most_common(max_words-1)]"
      ]
    },
    {
      "cell_type": "code",
      "execution_count": 17,
      "metadata": {
        "colab": {
          "base_uri": "https://localhost:8080/"
        },
        "id": "bRQ-6wwjJrGo",
        "outputId": "0b8859ca-5360-448e-8a44-efc7044e46c6"
      },
      "outputs": [
        {
          "output_type": "execute_result",
          "data": {
            "text/plain": [
              "['антивирус',\n",
              " 'всё',\n",
              " 'не',\n",
              " 'удобно',\n",
              " 'очень',\n",
              " 'работать',\n",
              " 'на',\n",
              " 'я',\n",
              " 'удобный',\n",
              " 'что']"
            ]
          },
          "metadata": {},
          "execution_count": 17
        }
      ],
      "source": [
        "tokens_filtered_top[:10]"
      ]
    },
    {
      "cell_type": "code",
      "execution_count": 18,
      "metadata": {
        "id": "Tdk777qGJtz4"
      },
      "outputs": [],
      "source": [
        "vocabulary = {v: k for k, v in dict(enumerate(tokens_filtered_top, 1)).items()}"
      ]
    },
    {
      "cell_type": "code",
      "execution_count": 19,
      "metadata": {
        "id": "5OULZgvkJzpj"
      },
      "outputs": [],
      "source": [
        "import numpy as np\n",
        "\n",
        "def text_to_sequence(text, maxlen):\n",
        "    result = []\n",
        "    tokens = word_tokenize(text.lower())\n",
        "    tokens_filtered = [word for word in tokens if word.isalnum()]\n",
        "    for word in tokens_filtered:\n",
        "        if word in vocabulary:\n",
        "            result.append(vocabulary[word])\n",
        "    padding = [0]*(maxlen-len(result))\n",
        "    return padding + result[-maxlen:]"
      ]
    },
    {
      "cell_type": "code",
      "source": [
        "X = np.asarray([text_to_sequence(text, max_len) for text in df[\"Content_1\"]], dtype=np.int32)\n",
        "y = np.asarray(df[\"class\"], dtype=np.int32)"
      ],
      "metadata": {
        "id": "XNJchmstjL3a"
      },
      "execution_count": 20,
      "outputs": []
    },
    {
      "cell_type": "code",
      "source": [
        "from sklearn.model_selection import  train_test_split"
      ],
      "metadata": {
        "id": "QjHSKjH9f1bX"
      },
      "execution_count": 21,
      "outputs": []
    },
    {
      "cell_type": "code",
      "source": [
        "X_train, X_test, y_train, y_test = train_test_split(X, y, test_size=0.2, random_state=55, stratify=y)"
      ],
      "metadata": {
        "id": "zEAccEnZf1hV"
      },
      "execution_count": 22,
      "outputs": []
    },
    {
      "cell_type": "code",
      "execution_count": 23,
      "metadata": {
        "colab": {
          "base_uri": "https://localhost:8080/"
        },
        "id": "9QlLvXd9KDf3",
        "outputId": "80bc6dbc-0459-4a47-b9b2-a134a331e9f1"
      },
      "outputs": [
        {
          "output_type": "execute_result",
          "data": {
            "text/plain": [
              "array([  0,   0,   0,   0,   0,   0,   0,   0,   0,   0,   0,   0,   0,\n",
              "         0,   0,   0,   0,   0,   0,   0,   0,   0,   0,   0,   0,   0,\n",
              "         0,   0,   0,   0,   0,   0,   0,   0,   0,   0,   0,   0,   0,\n",
              "         0,   0,   0,   0,   0,   0,   0,   0,   0,   0,   0,   0,  13,\n",
              "         6, 224,  21, 168, 208,   3, 254,   4], dtype=int32)"
            ]
          },
          "metadata": {},
          "execution_count": 23
        }
      ],
      "source": [
        "X_train[9]"
      ]
    },
    {
      "cell_type": "markdown",
      "metadata": {
        "id": "7bQFBBAp5zM2"
      },
      "source": [
        "# Keras model"
      ]
    },
    {
      "cell_type": "code",
      "execution_count": 24,
      "metadata": {
        "id": "RKQ9xZsh5zM2"
      },
      "outputs": [],
      "source": [
        "import numpy as np\n",
        "import keras\n",
        "from keras.models import Sequential, Model\n",
        "from keras.layers import Dense, Dropout, Activation, Input, Embedding, Conv1D, GlobalMaxPool1D\n",
        "from keras.preprocessing.text import Tokenizer\n",
        "from keras.preprocessing.sequence import pad_sequences\n",
        "from keras.callbacks import TensorBoard\n",
        "from keras.callbacks import EarlyStopping"
      ]
    },
    {
      "cell_type": "code",
      "execution_count": 25,
      "metadata": {
        "id": "RR50JaBH5zM2"
      },
      "outputs": [],
      "source": [
        "num_classes = 2\n",
        "y_train = keras.utils.to_categorical(y_train, num_classes)\n",
        "y_test = keras.utils.to_categorical(y_test, num_classes)"
      ]
    },
    {
      "cell_type": "code",
      "execution_count": 26,
      "metadata": {
        "id": "0etbGnfk5zM3",
        "colab": {
          "base_uri": "https://localhost:8080/"
        },
        "outputId": "685c84a0-04d3-48c8-83ac-2b0374603a5f"
      },
      "outputs": [
        {
          "output_type": "stream",
          "name": "stdout",
          "text": [
            "Model: \"sequential\"\n",
            "_________________________________________________________________\n",
            " Layer (type)                Output Shape              Param #   \n",
            "=================================================================\n",
            " embedding (Embedding)       (None, 60, 128)           115200    \n",
            "                                                                 \n",
            " conv1d (Conv1D)             (None, 45, 128)           262272    \n",
            "                                                                 \n",
            " activation (Activation)     (None, 45, 128)           0         \n",
            "                                                                 \n",
            " global_max_pooling1d (Glob  (None, 128)               0         \n",
            " alMaxPooling1D)                                                 \n",
            "                                                                 \n",
            " dense (Dense)               (None, 16)                2064      \n",
            "                                                                 \n",
            " activation_1 (Activation)   (None, 16)                0         \n",
            "                                                                 \n",
            " dense_1 (Dense)             (None, 2)                 34        \n",
            "                                                                 \n",
            " activation_2 (Activation)   (None, 2)                 0         \n",
            "                                                                 \n",
            "=================================================================\n",
            "Total params: 379570 (1.45 MB)\n",
            "Trainable params: 379570 (1.45 MB)\n",
            "Non-trainable params: 0 (0.00 Byte)\n",
            "_________________________________________________________________\n"
          ]
        }
      ],
      "source": [
        "model = Sequential()\n",
        "model.add(Embedding(input_dim=max_words, output_dim=128, input_length=max_len))\n",
        "model.add(Conv1D(128, 16))\n",
        "model.add(Activation(\"relu\"))\n",
        "model.add(GlobalMaxPool1D())\n",
        "model.add(Dense(16))\n",
        "model.add(Activation(\"relu\"))\n",
        "model.add(Dense(num_classes)) #2\n",
        "model.add(Activation('sigmoid'))\n",
        "model.summary()"
      ]
    },
    {
      "cell_type": "code",
      "execution_count": 27,
      "metadata": {
        "id": "yzPOuNOL5zM3"
      },
      "outputs": [],
      "source": [
        "model.compile(loss='binary_crossentropy',\n",
        "              optimizer='adam',\n",
        "              metrics=['accuracy'])"
      ]
    },
    {
      "cell_type": "code",
      "execution_count": 28,
      "metadata": {
        "id": "Jf-rx7cF5zM3",
        "outputId": "d68d7f2b-a8ee-49ce-e2bf-b88a954f4640",
        "colab": {
          "base_uri": "https://localhost:8080/"
        }
      },
      "outputs": [
        {
          "output_type": "stream",
          "name": "stdout",
          "text": [
            "Epoch 1/30\n",
            "14/14 [==============================] - 9s 233ms/step - loss: 0.4792 - accuracy: 0.8469 - val_loss: 0.4161 - val_accuracy: 0.8468\n",
            "Epoch 2/30\n",
            "14/14 [==============================] - 1s 98ms/step - loss: 0.3720 - accuracy: 0.8582 - val_loss: 0.3162 - val_accuracy: 0.8759\n",
            "Epoch 3/30\n",
            "14/14 [==============================] - 1s 65ms/step - loss: 0.2786 - accuracy: 0.8941 - val_loss: 0.2236 - val_accuracy: 0.9120\n",
            "Epoch 4/30\n",
            "14/14 [==============================] - 1s 41ms/step - loss: 0.2114 - accuracy: 0.9143 - val_loss: 0.1768 - val_accuracy: 0.9278\n",
            "Epoch 5/30\n",
            "14/14 [==============================] - 1s 51ms/step - loss: 0.1769 - accuracy: 0.9251 - val_loss: 0.1600 - val_accuracy: 0.9348\n",
            "Epoch 6/30\n",
            "14/14 [==============================] - 1s 69ms/step - loss: 0.1577 - accuracy: 0.9332 - val_loss: 0.1515 - val_accuracy: 0.9386\n",
            "Epoch 7/30\n",
            "14/14 [==============================] - 1s 55ms/step - loss: 0.1451 - accuracy: 0.9411 - val_loss: 0.1488 - val_accuracy: 0.9354\n",
            "Epoch 8/30\n",
            "14/14 [==============================] - 1s 65ms/step - loss: 0.1367 - accuracy: 0.9456 - val_loss: 0.1476 - val_accuracy: 0.9361\n",
            "Epoch 9/30\n",
            "14/14 [==============================] - 1s 81ms/step - loss: 0.1301 - accuracy: 0.9479 - val_loss: 0.1484 - val_accuracy: 0.9386\n"
          ]
        }
      ],
      "source": [
        "tensorboard=TensorBoard(log_dir='./logs', write_graph=True, write_images=True)\n",
        "early_stopping=EarlyStopping(monitor='val_loss')\n",
        "\n",
        "\n",
        "history = model.fit(X_train, y_train,\n",
        "                    batch_size=batch_size,\n",
        "                    epochs=epochs,\n",
        "                    verbose=1,\n",
        "                    validation_split=0.1,\n",
        "                    callbacks=[tensorboard, early_stopping])"
      ]
    },
    {
      "cell_type": "code",
      "source": [
        "from sklearn.metrics import f1_score, precision_recall_curve"
      ],
      "metadata": {
        "id": "_tZkjzHeWAyH"
      },
      "execution_count": 32,
      "outputs": []
    },
    {
      "cell_type": "code",
      "source": [
        "def metrics(y_test, score):\n",
        "    metric_dict = {}\n",
        "    precision, recall, thresholds = precision_recall_curve(y_test, score)\n",
        "    fscore = (2 * precision * recall) / (precision + recall)\n",
        "    # locate the index of the largest f score\n",
        "    ix = np.argmax(fscore)\n",
        "    metric_dict['thresholds'] = thresholds[ix]\n",
        "    metric_dict['precision'] = precision[ix]\n",
        "    metric_dict['recall'] = recall[ix]\n",
        "    metric_dict['f_score'] = fscore[ix]\n",
        "\n",
        "    return metric_dict"
      ],
      "metadata": {
        "id": "_zMmTGpnVysp"
      },
      "execution_count": 36,
      "outputs": []
    },
    {
      "cell_type": "code",
      "source": [
        "y_predict = model.predict(X_test, batch_size=batch_size, verbose=1)\n",
        "\n",
        "y_pr = y_predict[:,:1].flatten()"
      ],
      "metadata": {
        "colab": {
          "base_uri": "https://localhost:8080/"
        },
        "id": "zp_lv5QoWLPL",
        "outputId": "340015dc-1178-47b4-8e23-00412884bc78"
      },
      "execution_count": 34,
      "outputs": [
        {
          "output_type": "stream",
          "name": "stdout",
          "text": [
            "4/4 [==============================] - 1s 203ms/step\n"
          ]
        }
      ]
    },
    {
      "cell_type": "code",
      "source": [
        "metrics(y_test[:,:1],y_pr)"
      ],
      "metadata": {
        "colab": {
          "base_uri": "https://localhost:8080/"
        },
        "id": "tOfunZzxWhho",
        "outputId": "7d8423d2-84b3-4e21-8627-6f2c10eceeac"
      },
      "execution_count": 37,
      "outputs": [
        {
          "output_type": "execute_result",
          "data": {
            "text/plain": [
              "{'thresholds': 0.36098164,\n",
              " 'precision': 0.7435158501440923,\n",
              " 'recall': 0.8528925619834711,\n",
              " 'f_score': 0.7944572748267897}"
            ]
          },
          "metadata": {},
          "execution_count": 37
        }
      ]
    },
    {
      "cell_type": "code",
      "source": [
        "import gensim"
      ],
      "metadata": {
        "id": "0101BOrtlrCo"
      },
      "execution_count": 29,
      "outputs": []
    },
    {
      "cell_type": "code",
      "source": [
        "!wget -q http://vectors.nlpl.eu/repository/20/180.zip\n",
        "!unzip -q 180.zip\n"
      ],
      "metadata": {
        "id": "0TFDHE1G1JAv"
      },
      "execution_count": 30,
      "outputs": []
    },
    {
      "cell_type": "code",
      "source": [
        "word_vectors = gensim.models.KeyedVectors.load_word2vec_format('/content/model.bin', binary=True).vectors\n",
        "word_vectors_matrix = [word_vectors[i][:128] for i in range(max_words)]\n",
        "len(word_vectors_matrix[0])"
      ],
      "metadata": {
        "colab": {
          "base_uri": "https://localhost:8080/"
        },
        "id": "9GkGKOXhi9Yp",
        "outputId": "daa0cfc4-73b3-4e17-a0e5-27e8968050e3"
      },
      "execution_count": 47,
      "outputs": [
        {
          "output_type": "execute_result",
          "data": {
            "text/plain": [
              "128"
            ]
          },
          "metadata": {},
          "execution_count": 47
        }
      ]
    },
    {
      "cell_type": "code",
      "source": [
        "\n",
        "initializer = keras.initializers.Constant(word_vectors_matrix)\n",
        "\n",
        "model = Sequential()\n",
        "model.add(Embedding(input_dim=max_words, output_dim=128, embeddings_initializer = initializer, input_length=max_len))\n",
        "model.add(Conv1D(128, 16))\n",
        "model.add(Activation(\"relu\"))\n",
        "model.add(GlobalMaxPool1D())\n",
        "model.add(Dense(16))\n",
        "model.add(Activation(\"relu\"))\n",
        "model.add(Dense(num_classes)) #2\n",
        "model.add(Activation('sigmoid'))\n",
        "model.summary()"
      ],
      "metadata": {
        "colab": {
          "base_uri": "https://localhost:8080/"
        },
        "id": "rUI6n9bflrIN",
        "outputId": "4e97f920-7dcc-4a17-f830-b23b892304ab"
      },
      "execution_count": 48,
      "outputs": [
        {
          "output_type": "stream",
          "name": "stdout",
          "text": [
            "Model: \"sequential_3\"\n",
            "_________________________________________________________________\n",
            " Layer (type)                Output Shape              Param #   \n",
            "=================================================================\n",
            " embedding_3 (Embedding)     (None, 60, 128)           115200    \n",
            "                                                                 \n",
            " conv1d_3 (Conv1D)           (None, 45, 128)           262272    \n",
            "                                                                 \n",
            " activation_9 (Activation)   (None, 45, 128)           0         \n",
            "                                                                 \n",
            " global_max_pooling1d_3 (Gl  (None, 128)               0         \n",
            " obalMaxPooling1D)                                               \n",
            "                                                                 \n",
            " dense_6 (Dense)             (None, 16)                2064      \n",
            "                                                                 \n",
            " activation_10 (Activation)  (None, 16)                0         \n",
            "                                                                 \n",
            " dense_7 (Dense)             (None, 2)                 34        \n",
            "                                                                 \n",
            " activation_11 (Activation)  (None, 2)                 0         \n",
            "                                                                 \n",
            "=================================================================\n",
            "Total params: 379570 (1.45 MB)\n",
            "Trainable params: 379570 (1.45 MB)\n",
            "Non-trainable params: 0 (0.00 Byte)\n",
            "_________________________________________________________________\n"
          ]
        }
      ]
    },
    {
      "cell_type": "code",
      "source": [
        "model.compile(loss='binary_crossentropy',\n",
        "              optimizer='adam',\n",
        "              metrics=['accuracy'])"
      ],
      "metadata": {
        "id": "F9xj8xEUjx3v"
      },
      "execution_count": 49,
      "outputs": []
    },
    {
      "cell_type": "code",
      "source": [
        "tensorboard=TensorBoard(log_dir='./logs', write_graph=True, write_images=True)\n",
        "early_stopping=EarlyStopping(monitor='val_loss')\n",
        "\n",
        "\n",
        "history = model.fit(X_train, y_train,\n",
        "                    batch_size=batch_size,\n",
        "                    epochs=epochs,\n",
        "                    verbose=1,\n",
        "                    validation_split=0.1,\n",
        "                    callbacks=[tensorboard, early_stopping]\n",
        "                    )"
      ],
      "metadata": {
        "colab": {
          "base_uri": "https://localhost:8080/"
        },
        "id": "Jhp3RzaVhnBF",
        "outputId": "1404ed5a-8e70-4ecf-c57d-cf3fee08766b"
      },
      "execution_count": 50,
      "outputs": [
        {
          "output_type": "stream",
          "name": "stdout",
          "text": [
            "Epoch 1/30\n",
            "14/14 [==============================] - 4s 200ms/step - loss: 0.4940 - accuracy: 0.8633 - val_loss: 0.2992 - val_accuracy: 0.8854\n",
            "Epoch 2/30\n",
            "14/14 [==============================] - 2s 128ms/step - loss: 0.2754 - accuracy: 0.8924 - val_loss: 0.2551 - val_accuracy: 0.8880\n",
            "Epoch 3/30\n",
            "14/14 [==============================] - 1s 100ms/step - loss: 0.2302 - accuracy: 0.9083 - val_loss: 0.2344 - val_accuracy: 0.9038\n",
            "Epoch 4/30\n",
            "14/14 [==============================] - 1s 41ms/step - loss: 0.2038 - accuracy: 0.9219 - val_loss: 0.2370 - val_accuracy: 0.9038\n"
          ]
        }
      ]
    },
    {
      "cell_type": "code",
      "source": [
        "y_predict = model.predict(X_test, batch_size=batch_size, verbose=1)\n",
        "\n",
        "y_pr = y_predict[:,:1].flatten()"
      ],
      "metadata": {
        "colab": {
          "base_uri": "https://localhost:8080/"
        },
        "id": "YR0OdkKdXB55",
        "outputId": "ab716182-6ca1-4fad-8071-3a1f3c405df7"
      },
      "execution_count": 51,
      "outputs": [
        {
          "output_type": "stream",
          "name": "stdout",
          "text": [
            "4/4 [==============================] - 0s 11ms/step\n"
          ]
        }
      ]
    },
    {
      "cell_type": "code",
      "source": [
        "metrics(y_test[:,:1],y_pr)"
      ],
      "metadata": {
        "colab": {
          "base_uri": "https://localhost:8080/"
        },
        "id": "jYwDOuBRXK9q",
        "outputId": "1e69c7fa-b648-4101-dacc-45f8a78ee688"
      },
      "execution_count": 52,
      "outputs": [
        {
          "output_type": "execute_result",
          "data": {
            "text/plain": [
              "{'thresholds': 0.49934426,\n",
              " 'precision': 0.6489971346704871,\n",
              " 'recall': 0.7487603305785124,\n",
              " 'f_score': 0.6953184957789715}"
            ]
          },
          "metadata": {},
          "execution_count": 52
        }
      ]
    },
    {
      "cell_type": "markdown",
      "source": [
        "## Выводы\n",
        "С предообучеными весами обучение занимает меньше времени 8 эпох против 9 На более тяжелых данных разница будет существенней\n"
      ],
      "metadata": {
        "id": "5SWWl7Vmm_1Z"
      }
    }
  ],
  "metadata": {
    "colab": {
      "provenance": [],
      "gpuType": "T4"
    },
    "kernelspec": {
      "display_name": "Python 3",
      "name": "python3"
    },
    "language_info": {
      "codemirror_mode": {
        "name": "ipython",
        "version": 3
      },
      "file_extension": ".py",
      "mimetype": "text/x-python",
      "name": "python",
      "nbconvert_exporter": "python",
      "pygments_lexer": "ipython3",
      "version": "3.8.3"
    },
    "accelerator": "GPU"
  },
  "nbformat": 4,
  "nbformat_minor": 0
}