{
 "cells": [
  {
   "cell_type": "markdown",
   "id": "4062ea1b",
   "metadata": {},
   "source": [
    "Задача тематическое моделирование\n",
    "\n",
    "продолжаем исследование датасета с твитами\n",
    "\n",
    "Скачиваем датасет (источник): положительные, отрицательные.\n",
    "\n",
    "или можно через ноутбук\n",
    "\n",
    "!wget https://www.dropbox.com/s/fnpq3z4bcnoktiv/positive.csv\n",
    "!wget https://www.dropbox.com/s/r6u59ljhhjdg6j0/negative.csv\n",
    "\n",
    "как альтернатива можно скачать данные из Роспотребнадзора\n",
    "https://zpp.rospotrebnadzor.ru/Forum/Appeals\n",
    "для этого берём ноутбук parse_rospotrebnadzor.ipynb\n",
    "устанавливаем количество скачанных страниц больше не 50-сят хотябы 500 и для анализа берём только вопросы так как ответы есть не всегда\n",
    "\n",
    "что надо сделать\n",
    "1. объединить в одну выборку (это только для твитов), для роспотребнадзора сформировать датасет из вопросов\n",
    "2. провести исследование и выявить тематики о которых говорят в твитах (для твитов), а для роспотребнадзора так же выявить тематики о которых люди пишут проанализировать\n",
    "3. сделать визуализацию кластеров тематик\n",
    "4. проинтерпритировать получившиеся тематики"
   ]
  },
  {
   "cell_type": "code",
   "execution_count": 1,
   "id": "b111e692",
   "metadata": {},
   "outputs": [
    {
     "name": "stderr",
     "output_type": "stream",
     "text": [
      "[nltk_data] Downloading package stopwords to\n",
      "[nltk_data]     C:\\Users\\PC\\AppData\\Roaming\\nltk_data...\n",
      "[nltk_data]   Package stopwords is already up-to-date!\n",
      "[nltk_data] Downloading package punkt to\n",
      "[nltk_data]     C:\\Users\\PC\\AppData\\Roaming\\nltk_data...\n",
      "[nltk_data]   Package punkt is already up-to-date!\n"
     ]
    }
   ],
   "source": [
    "import pandas as pd\n",
    "#from corus import load_lenta\n",
    "import re\n",
    "import numpy as np\n",
    "from nltk.corpus import stopwords\n",
    "from tqdm.notebook import tqdm\n",
    "#from multiprocessing import Pool\n",
    "#from pymystem3 import Mystem\n",
    "\n",
    "from string import punctuation\n",
    "from stop_words import get_stop_words\n",
    "from pymorphy3 import MorphAnalyzer\n",
    "import re\n",
    "import nltk\n",
    "\n",
    "\n",
    "nltk.download('stopwords')\n",
    "nltk.download('punkt')\n",
    "\n",
    "import warnings\n",
    "warnings.filterwarnings(\"ignore\")\n",
    "\n",
    "\n",
    "pd.set_option('display.max_columns', None)  \n",
    "pd.set_option('display.expand_frame_repr', False)\n",
    "pd.set_option('max_colwidth', 1)"
   ]
  },
  {
   "cell_type": "code",
   "execution_count": null,
   "id": "54c1b912",
   "metadata": {},
   "outputs": [],
   "source": []
  },
  {
   "cell_type": "code",
   "execution_count": null,
   "id": "1e79d8f6",
   "metadata": {},
   "outputs": [],
   "source": []
  },
  {
   "cell_type": "code",
   "execution_count": null,
   "id": "29c0eb2e",
   "metadata": {},
   "outputs": [],
   "source": []
  },
  {
   "cell_type": "markdown",
   "id": "f958f895",
   "metadata": {},
   "source": [
    "## Загрузка датасета"
   ]
  },
  {
   "cell_type": "code",
   "execution_count": 2,
   "id": "e9f24347",
   "metadata": {},
   "outputs": [],
   "source": [
    "import requests\n",
    "from urllib.parse import urlencode\n",
    "\n",
    "base_url = 'https://cloud-api.yandex.net/v1/disk/public/resources/download?'\n",
    "public_key = 'https://disk.yandex.ru/i/koR5eMCToCZS2Q'\n",
    "\n",
    "# Получаем загрузочную ссылку\n",
    "final_url = base_url + urlencode(dict(public_key=public_key))\n",
    "response = requests.get(final_url)\n",
    "download_url = response.json()['href']\n",
    "\n",
    "# Загружаем файл и сохраняем его\n",
    "download_response = requests.get(download_url)\n",
    "with open('positive.csv', 'wb') as f:\n",
    "    f.write(download_response.content)\n",
    "\n",
    "public_key = 'https://disk.yandex.ru/i/koR5eMCToCZS2Q'\n",
    "\n",
    "# Получаем загрузочную ссылку\n",
    "final_url = base_url + urlencode(dict(public_key=public_key))\n",
    "response = requests.get(final_url)\n",
    "download_url = response.json()['href']\n",
    "\n",
    "# Загружаем файл и сохраняем его\n",
    "download_response = requests.get(download_url)\n",
    "with open('negative.csv', 'wb') as f:\n",
    "    f.write(download_response.content)"
   ]
  },
  {
   "cell_type": "code",
   "execution_count": 3,
   "id": "1cf100e1",
   "metadata": {
    "scrolled": false
   },
   "outputs": [
    {
     "data": {
      "text/plain": [
       "{'href': 'https://downloader.disk.yandex.ru/disk/cb8f6cde771c60efbabef8bdbc6cadd09821c1943c7938304310c1a2b9dcb4dd/65f0721f/lANyF5IzzZjLCLEpcnupSGdlbOIkqtyuJ-NIP7AIbEIXNJz--xiytwObDuJ60ALpgcqGwMJrs9fq_jT7dx2R6g%3D%3D?uid=0&filename=positive.csv&disposition=attachment&hash=i/gNo2h%2Bj3GKdpDCrU2t203VVX%2Bzkhhj2OSBBDTQkYBY0Vj8gGhv6Gc2pBFvt6Gnq/J6bpmRyOJonT3VoXnDag%3D%3D%3A&limit=0&content_type=application%2Fvnd.ms-excel&owner_uid=89604752&fsize=26233379&hid=9ee316c501d0b7cc476755fcdf75e6f6&media_type=spreadsheet&tknv=v2',\n",
       " 'method': 'GET',\n",
       " 'templated': False}"
      ]
     },
     "execution_count": 3,
     "metadata": {},
     "output_type": "execute_result"
    }
   ],
   "source": [
    "response.json()"
   ]
  },
  {
   "cell_type": "code",
   "execution_count": null,
   "id": "51247560",
   "metadata": {},
   "outputs": [],
   "source": []
  },
  {
   "cell_type": "code",
   "execution_count": 20,
   "id": "57d87413",
   "metadata": {},
   "outputs": [
    {
     "data": {
      "text/html": [
       "<div>\n",
       "<style scoped>\n",
       "    .dataframe tbody tr th:only-of-type {\n",
       "        vertical-align: middle;\n",
       "    }\n",
       "\n",
       "    .dataframe tbody tr th {\n",
       "        vertical-align: top;\n",
       "    }\n",
       "\n",
       "    .dataframe thead th {\n",
       "        text-align: right;\n",
       "    }\n",
       "</style>\n",
       "<table border=\"1\" class=\"dataframe\">\n",
       "  <thead>\n",
       "    <tr style=\"text-align: right;\">\n",
       "      <th></th>\n",
       "      <th>text</th>\n",
       "      <th>label</th>\n",
       "    </tr>\n",
       "  </thead>\n",
       "  <tbody>\n",
       "    <tr>\n",
       "      <th>0</th>\n",
       "      <td>Купила все на свой вкус, кайнене ходила, как приложение ^^ исправляется)</td>\n",
       "      <td>1</td>\n",
       "    </tr>\n",
       "    <tr>\n",
       "      <th>1</th>\n",
       "      <td>@SJ_pineapple я еще не дорисовал:D ну если хочешь я тебе скину и вообще я не знаю мне чет не нрав:D</td>\n",
       "      <td>0</td>\n",
       "    </tr>\n",
       "    <tr>\n",
       "      <th>2</th>\n",
       "      <td>В итоге, Обе-рек были первыми, Roman Rain — вторыми. Но да пофиг. Одно говно :)))</td>\n",
       "      <td>1</td>\n",
       "    </tr>\n",
       "    <tr>\n",
       "      <th>3</th>\n",
       "      <td>@malysheva_lenka Это бывает) Выпадет, куда он денется!)))</td>\n",
       "      <td>0</td>\n",
       "    </tr>\n",
       "    <tr>\n",
       "      <th>4</th>\n",
       "      <td>Щас будем с Анютой украшать квартиру и наряжать ёлочку)))</td>\n",
       "      <td>0</td>\n",
       "    </tr>\n",
       "  </tbody>\n",
       "</table>\n",
       "</div>"
      ],
      "text/plain": [
       "                                                                                                  text  label\n",
       "0  Купила все на свой вкус, кайнене ходила, как приложение ^^ исправляется)                             1    \n",
       "1  @SJ_pineapple я еще не дорисовал:D ну если хочешь я тебе скину и вообще я не знаю мне чет не нрав:D  0    \n",
       "2  В итоге, Обе-рек были первыми, Roman Rain — вторыми. Но да пофиг. Одно говно :)))                    1    \n",
       "3  @malysheva_lenka Это бывает) Выпадет, куда он денется!)))                                            0    \n",
       "4  Щас будем с Анютой украшать квартиру и наряжать ёлочку)))                                            0    "
      ]
     },
     "execution_count": 20,
     "metadata": {},
     "output_type": "execute_result"
    }
   ],
   "source": [
    "# считываем данные и заполняем общий датасет\n",
    "positive = pd.read_csv('positive.csv', sep=';', usecols=[3], names=['text'], header= None) # заголовков в csv нет  -header= None калонка с нужным текстом 3 usecols=[3]\n",
    "positive['label'] =  1\n",
    "negative = pd.read_csv('negative.csv', sep=';', usecols=[3], names=['text'], header= None)\n",
    "negative['label'] = 0\n",
    "df = pd.concat([negative,positive], axis=0 )\n",
    "\n",
    "df = df.sample(frac=1).reset_index(drop=True) #шафлим что бы данные не шли друг за другом для наглядности\n",
    "df.head()"
   ]
  },
  {
   "cell_type": "markdown",
   "id": "c22bbf4f",
   "metadata": {},
   "source": [
    "## Очистка теста"
   ]
  },
  {
   "cell_type": "code",
   "execution_count": 21,
   "id": "be7d16c1",
   "metadata": {},
   "outputs": [
    {
     "data": {
      "text/html": [
       "<div>\n",
       "<style scoped>\n",
       "    .dataframe tbody tr th:only-of-type {\n",
       "        vertical-align: middle;\n",
       "    }\n",
       "\n",
       "    .dataframe tbody tr th {\n",
       "        vertical-align: top;\n",
       "    }\n",
       "\n",
       "    .dataframe thead th {\n",
       "        text-align: right;\n",
       "    }\n",
       "</style>\n",
       "<table border=\"1\" class=\"dataframe\">\n",
       "  <thead>\n",
       "    <tr style=\"text-align: right;\">\n",
       "      <th></th>\n",
       "      <th>text</th>\n",
       "      <th>label</th>\n",
       "    </tr>\n",
       "  </thead>\n",
       "  <tbody>\n",
       "    <tr>\n",
       "      <th>0</th>\n",
       "      <td>купить свой вкус кайнен ходить приложение исправляться</td>\n",
       "      <td>1</td>\n",
       "    </tr>\n",
       "    <tr>\n",
       "      <th>1</th>\n",
       "      <td>дорисовалd скинуть вообще знать нравd</td>\n",
       "      <td>0</td>\n",
       "    </tr>\n",
       "    <tr>\n",
       "      <th>2</th>\n",
       "      <td>итог оберека первый roman rain второй пофига один говно смешно</td>\n",
       "      <td>1</td>\n",
       "    </tr>\n",
       "    <tr>\n",
       "      <th>3</th>\n",
       "      <td>выпасть деться смешно</td>\n",
       "      <td>0</td>\n",
       "    </tr>\n",
       "  </tbody>\n",
       "</table>\n",
       "</div>"
      ],
      "text/plain": [
       "                                                             text  label\n",
       "0  купить свой вкус кайнен ходить приложение исправляться          1    \n",
       "1  дорисовалd скинуть вообще знать нравd                           0    \n",
       "2  итог оберека первый roman rain второй пофига один говно смешно  1    \n",
       "3  выпасть деться смешно                                           0    "
      ]
     },
     "execution_count": 21,
     "metadata": {},
     "output_type": "execute_result"
    }
   ],
   "source": [
    "sw_1 = list(set(get_stop_words(\"ru\")))\n",
    "sw_2 = stopwords.words('russian')\n",
    "sw = list(set(sw_1 + sw_2))\n",
    "exclude = set(punctuation)\n",
    "morpher = MorphAnalyzer()\n",
    "\n",
    "def preprocess_text(txt):\n",
    "  \n",
    "    txt = str(txt)\n",
    "\n",
    "    \n",
    "    txt = re.sub(r'#\\S+', '', txt) # удалит хештеги  \n",
    "    txt = re.sub(r'@\\S+', '', txt) # удалит упоминани \n",
    "    txt = re.sub(r'\\d', '', txt) # удалит упоминани \n",
    "    txt = re.sub(r'http\\S+\\s*', '', txt) # удалит URL  \n",
    "    txt = re.sub(r'RT|cc', '', txt) # удалит RT и cc\n",
    "    txt = re.sub(r'ха\\S+|ax\\S+', ' смешно ', txt)\n",
    "    txt = re.sub(r'\\)\\S+|:D\\S+|D\\S+', ' смешно ', txt)\n",
    "    txt = re.sub(r'\\(\\S+', ' грустно ', txt)\n",
    "    txt = \"\".join(c for c in txt if c not in exclude)\n",
    "    txt = txt.lower()\n",
    "    txt = re.sub('\\s+', ' ', txt) # заменит пробельные символы на 1 пробел \n",
    "    txt = \"\".join(c for c in txt if c.isalpha() or c == ' ') # удалит все что не буква \n",
    "    \n",
    "    txt = [morpher.parse(word)[0].normal_form for word in txt.split() if word not in sw and len(word) > 3]\n",
    "    return \" \".join(txt)\n",
    "\n",
    "df['text'] = df['text'].apply(preprocess_text)\n",
    "df.head(4)"
   ]
  },
  {
   "cell_type": "code",
   "execution_count": 24,
   "id": "bbdff55c",
   "metadata": {},
   "outputs": [],
   "source": [
    "df.to_csv('data_prepare_csv') #"
   ]
  },
  {
   "cell_type": "code",
   "execution_count": 17,
   "id": "28583e67",
   "metadata": {},
   "outputs": [
    {
     "data": {
      "text/plain": [
       "(421, 151, 422)"
      ]
     },
     "execution_count": 17,
     "metadata": {},
     "output_type": "execute_result"
    }
   ],
   "source": [
    "len(sw_1), len(sw_2), len(sw)"
   ]
  },
  {
   "cell_type": "code",
   "execution_count": null,
   "id": "fdd2509b",
   "metadata": {},
   "outputs": [],
   "source": []
  },
  {
   "cell_type": "code",
   "execution_count": 29,
   "id": "49b5570e",
   "metadata": {},
   "outputs": [],
   "source": [
    "df.to_csv('data_prepare_with_lemm_csv') #"
   ]
  },
  {
   "cell_type": "code",
   "execution_count": null,
   "id": "ebe79aca",
   "metadata": {},
   "outputs": [],
   "source": []
  },
  {
   "cell_type": "code",
   "execution_count": null,
   "id": "a26740c6",
   "metadata": {},
   "outputs": [],
   "source": [
    "df['token'] = df['tweet'].apply(lambda x: word_tokenize(x))\n",
    "df.head()"
   ]
  },
  {
   "cell_type": "code",
   "execution_count": 33,
   "id": "8dd649c3",
   "metadata": {},
   "outputs": [
    {
     "name": "stderr",
     "output_type": "stream",
     "text": [
      "[nltk_data] Downloading package wordnet to\n",
      "[nltk_data]     C:\\Users\\PC\\AppData\\Roaming\\nltk_data...\n",
      "[nltk_data]   Package wordnet is already up-to-date!\n",
      "[nltk_data] Downloading package punkt to\n",
      "[nltk_data]     C:\\Users\\PC\\AppData\\Roaming\\nltk_data...\n",
      "[nltk_data]   Package punkt is already up-to-date!\n"
     ]
    }
   ],
   "source": [
    "from nltk.tokenize import word_tokenize\n",
    "from nltk.stem.wordnet import WordNetLemmatizer\n",
    "\n",
    "nltk.download('wordnet')\n",
    "nltk.download('punkt')\n",
    "\n",
    "df['token'] = df['text'].apply(lambda x: word_tokenize(x))\n",
    "df.head()\n",
    "lemm = WordNetLemmatizer()\n",
    "df['lemm'] = df['token'].apply(lambda x: [lemm.lemmatize(w,'n') for w in x])"
   ]
  },
  {
   "cell_type": "code",
   "execution_count": 35,
   "id": "b5bcaa79",
   "metadata": {},
   "outputs": [],
   "source": [
    "df.to_csv('data_prepare_with_lemm_csv') #"
   ]
  },
  {
   "cell_type": "code",
   "execution_count": null,
   "id": "6fa39cfc",
   "metadata": {},
   "outputs": [],
   "source": []
  },
  {
   "cell_type": "code",
   "execution_count": 36,
   "id": "94122e7e",
   "metadata": {},
   "outputs": [],
   "source": [
    "from gensim.models import *\n",
    "from gensim import corpora"
   ]
  },
  {
   "cell_type": "code",
   "execution_count": 37,
   "id": "0618831b",
   "metadata": {},
   "outputs": [],
   "source": [
    "dictionary = corpora.Dictionary(df['lemm'])\n",
    "\n",
    "dictionary.filter_extremes(no_below = 10, no_above = 0.9, keep_n=None) # игнорируем слова, которые встречаются реже 10 раз или составляют более 0.9 словаря \n",
    "dictionary.save('dict_text.dict')"
   ]
  },
  {
   "cell_type": "code",
   "execution_count": 38,
   "id": "d6a93288",
   "metadata": {},
   "outputs": [],
   "source": [
    "corpus = [dictionary.doc2bow(text) for text in df['lemm']]\n",
    "corpora.MmCorpus.serialize('lenta.model', corpus) "
   ]
  },
  {
   "cell_type": "code",
   "execution_count": 39,
   "id": "5c612fce",
   "metadata": {},
   "outputs": [
    {
     "name": "stdout",
     "output_type": "stream",
     "text": [
      "CPU times: total: 0 ns\n",
      "Wall time: 0 ns\n"
     ]
    }
   ],
   "source": [
    "%time \n",
    "lda = ldamodel.LdaModel(corpus, id2word=dictionary, num_topics=20, chunksize=50, update_every=1, passes=2)"
   ]
  },
  {
   "cell_type": "code",
   "execution_count": 40,
   "id": "9947effd",
   "metadata": {},
   "outputs": [
    {
     "name": "stdout",
     "output_type": "stream",
     "text": [
      "CPU times: total: 0 ns\n",
      "Wall time: 0 ns\n"
     ]
    },
    {
     "data": {
      "text/plain": [
       "[(19,\n",
       "  '0.314*\"ночь\" + 0.174*\"милый\" + 0.112*\"новогодний\" + 0.095*\"оставаться\" + 0.086*\"провести\" + 0.049*\"спросить\" + 0.047*\"спасть\" + 0.033*\"ездить\" + 0.012*\"мечтать\" + 0.000*\"спокойный\"'),\n",
       " (2,\n",
       "  '0.215*\"мочь\" + 0.193*\"вообще\" + 0.118*\"какой\" + 0.097*\"фотка\" + 0.092*\"большой\" + 0.069*\"счастливый\" + 0.051*\"пятница\" + 0.042*\"петь\" + 0.031*\"весь\" + 0.024*\"мило\"'),\n",
       " (3,\n",
       "  '0.000*\"торрент\" + 0.000*\"полистать\" + 0.000*\"follow\" + 0.000*\"разыгрывать\" + 0.000*\"исполнить\" + 0.000*\"чужое\" + 0.000*\"некуда\" + 0.000*\"хочуа\" + 0.000*\"кристиан\" + 0.000*\"езжать\"'),\n",
       " (0,\n",
       "  '0.399*\"снег\" + 0.346*\"наш\" + 0.080*\"огромный\" + 0.041*\"труд\" + 0.000*\"улица\" + 0.000*\"круто\" + 0.000*\"идти\" + 0.000*\"весело\" + 0.000*\"поиграть\" + 0.000*\"снежок\"'),\n",
       " (13,\n",
       "  '0.339*\"пойти\" + 0.175*\"работать\" + 0.173*\"найти\" + 0.088*\"деньга\" + 0.075*\"дорога\" + 0.062*\"концерт\" + 0.023*\"билет\" + 0.000*\"думать\" + 0.000*\"дом\" + 0.000*\"новый\"'),\n",
       " (5,\n",
       "  '0.991*\"смешно\" + 0.000*\"утро\" + 0.000*\"завтра\" + 0.000*\"думать\" + 0.000*\"новый\" + 0.000*\"говорить\" + 0.000*\"сидеть\" + 0.000*\"такой\" + 0.000*\"человек\" + 0.000*\"смотреть\"'),\n",
       " (16,\n",
       "  '0.552*\"знать\" + 0.179*\"понять\" + 0.122*\"фото\" + 0.065*\"ктоть\" + 0.028*\"выглядеть\" + 0.000*\"узнать\" + 0.000*\"вопрос\" + 0.000*\"жопа\" + 0.000*\"смотреть\" + 0.000*\"сиська\"'),\n",
       " (15,\n",
       "  '0.390*\"скоро\" + 0.138*\"болеть\" + 0.122*\"скорее\" + 0.095*\"январь\" + 0.079*\"отвечать\" + 0.044*\"бесить\" + 0.012*\"мудак\" + 0.000*\"голова\" + 0.000*\"мой\" + 0.000*\"начать\"'),\n",
       " (8,\n",
       "  '0.702*\"остаться\" + 0.000*\"новый\" + 0.000*\"день\" + 0.000*\"придумать\" + 0.000*\"дождаться\" + 0.000*\"появиться\" + 0.000*\"прокат\" + 0.000*\"друг\" + 0.000*\"четверг\" + 0.000*\"начаться\"'),\n",
       " (12,\n",
       "  '0.637*\"хотеть\" + 0.076*\"машина\" + 0.063*\"короче\" + 0.062*\"тип\" + 0.049*\"встать\" + 0.047*\"другой\" + 0.000*\"новый\" + 0.000*\"завтра\" + 0.000*\"передать\" + 0.000*\"сказать\"')]"
      ]
     },
     "execution_count": 40,
     "metadata": {},
     "output_type": "execute_result"
    }
   ],
   "source": [
    "%time \n",
    "lda.show_topics(num_topics=10, num_words=10, formatted=True)"
   ]
  },
  {
   "cell_type": "code",
   "execution_count": 41,
   "id": "870f4f88",
   "metadata": {
    "scrolled": true
   },
   "outputs": [
    {
     "name": "stdout",
     "output_type": "stream",
     "text": [
      "CPU times: total: 0 ns\n",
      "Wall time: 0 ns\n"
     ]
    },
    {
     "data": {
      "text/plain": [
       "[(11,\n",
       "  '0.000*\"торрент\" + 0.000*\"полистать\" + 0.000*\"follow\" + 0.000*\"разыгрывать\" + 0.000*\"исполнить\" + 0.000*\"чужое\" + 0.000*\"некуда\" + 0.000*\"хочуа\" + 0.000*\"кристиан\" + 0.000*\"езжать\"'),\n",
       " (15,\n",
       "  '0.000*\"торрент\" + 0.000*\"полистать\" + 0.000*\"follow\" + 0.000*\"разыгрывать\" + 0.000*\"исполнить\" + 0.000*\"чужое\" + 0.000*\"некуда\" + 0.000*\"хочуа\" + 0.000*\"кристиан\" + 0.000*\"езжать\"'),\n",
       " (78,\n",
       "  '0.000*\"торрент\" + 0.000*\"полистать\" + 0.000*\"follow\" + 0.000*\"разыгрывать\" + 0.000*\"исполнить\" + 0.000*\"чужое\" + 0.000*\"некуда\" + 0.000*\"хочуа\" + 0.000*\"кристиан\" + 0.000*\"езжать\"'),\n",
       " (51,\n",
       "  '0.000*\"торрент\" + 0.000*\"полистать\" + 0.000*\"follow\" + 0.000*\"разыгрывать\" + 0.000*\"исполнить\" + 0.000*\"чужое\" + 0.000*\"некуда\" + 0.000*\"хочуа\" + 0.000*\"кристиан\" + 0.000*\"езжать\"'),\n",
       " (54,\n",
       "  '0.333*\"пятница\" + 0.272*\"петь\" + 0.157*\"мило\" + 0.066*\"загадывать\" + 0.066*\"ёлочка\" + 0.061*\"кабинет\" + 0.000*\"езжать\" + 0.000*\"некуда\" + 0.000*\"кристиан\" + 0.000*\"чужое\"'),\n",
       " (87,\n",
       "  '0.000*\"торрент\" + 0.000*\"полистать\" + 0.000*\"follow\" + 0.000*\"разыгрывать\" + 0.000*\"исполнить\" + 0.000*\"чужое\" + 0.000*\"некуда\" + 0.000*\"хочуа\" + 0.000*\"кристиан\" + 0.000*\"езжать\"'),\n",
       " (66,\n",
       "  '0.000*\"торрент\" + 0.000*\"полистать\" + 0.000*\"follow\" + 0.000*\"разыгрывать\" + 0.000*\"исполнить\" + 0.000*\"чужое\" + 0.000*\"некуда\" + 0.000*\"хочуа\" + 0.000*\"кристиан\" + 0.000*\"езжать\"'),\n",
       " (74,\n",
       "  '0.000*\"торрент\" + 0.000*\"полистать\" + 0.000*\"follow\" + 0.000*\"разыгрывать\" + 0.000*\"исполнить\" + 0.000*\"чужое\" + 0.000*\"некуда\" + 0.000*\"хочуа\" + 0.000*\"кристиан\" + 0.000*\"езжать\"'),\n",
       " (90,\n",
       "  '0.000*\"торрент\" + 0.000*\"полистать\" + 0.000*\"follow\" + 0.000*\"разыгрывать\" + 0.000*\"исполнить\" + 0.000*\"чужое\" + 0.000*\"некуда\" + 0.000*\"хочуа\" + 0.000*\"кристиан\" + 0.000*\"езжать\"'),\n",
       " (55,\n",
       "  '0.000*\"торрент\" + 0.000*\"полистать\" + 0.000*\"follow\" + 0.000*\"разыгрывать\" + 0.000*\"исполнить\" + 0.000*\"чужое\" + 0.000*\"некуда\" + 0.000*\"хочуа\" + 0.000*\"кристиан\" + 0.000*\"езжать\"')]"
      ]
     },
     "execution_count": 41,
     "metadata": {},
     "output_type": "execute_result"
    }
   ],
   "source": [
    "lda_2 = ldamodel.LdaModel(corpus, id2word=dictionary, num_topics=100, chunksize=50, update_every=1, passes=2)\n",
    "%time \n",
    "lda_2.show_topics(num_topics=10, num_words=10, formatted=True)"
   ]
  },
  {
   "cell_type": "code",
   "execution_count": 45,
   "id": "bf5f21c6",
   "metadata": {},
   "outputs": [],
   "source": [
    "from tqdm.notebook import tqdm"
   ]
  },
  {
   "cell_type": "code",
   "execution_count": 48,
   "id": "e332cfe6",
   "metadata": {},
   "outputs": [],
   "source": [
    "import matplotlib.pyplot as plt"
   ]
  },
  {
   "cell_type": "code",
   "execution_count": 49,
   "id": "aeb15295",
   "metadata": {},
   "outputs": [
    {
     "data": {
      "image/png": "[encoded data removed]",
      "text/plain": [
       "<Figure size 640x480 with 1 Axes>"
      ]
     },
     "metadata": {},
     "output_type": "display_data"
    }
   ],
   "source": [
    "topics_list = [10, 25, 50, 75, 100]\n",
    "coherences = []\n",
    "\n",
    "for num in topics_list:\n",
    "    lda = ldamodel.LdaModel(corpus, id2word=dictionary, num_topics=num, chunksize=50, update_every=1, passes=2)\n",
    "    coherences.append(CoherenceModel(model=lda, texts=df['lemm'], dictionary=dictionary, coherence='c_v').get_coherence())\n",
    "\n",
    "plt.plot(topics_list, coherences)\n",
    "plt.grid()\n",
    "plt.xlabel(\"Число тем\")\n",
    "plt.ylabel(\"Средняя когерентность\")\n",
    "plt.show()"
   ]
  },
  {
   "cell_type": "markdown",
   "id": "34ae4fbb",
   "metadata": {},
   "source": [
    "# Вывод\n",
    "#### В точке 50 тем наблюдается перегиб,     50 тем достаточно для оптимального разделени на тематики, при большем количестве тем когрентность перестает расти"
   ]
  },
  {
   "cell_type": "code",
   "execution_count": null,
   "id": "d58a07b3",
   "metadata": {},
   "outputs": [],
   "source": []
  }
 ],
 "metadata": {
  "kernelspec": {
   "display_name": "Python 3 (ipykernel)",
   "language": "python",
   "name": "python3"
  },
  "language_info": {
   "codemirror_mode": {
    "name": "ipython",
    "version": 3
   },
   "file_extension": ".py",
   "mimetype": "text/x-python",
   "name": "python",
   "nbconvert_exporter": "python",
   "pygments_lexer": "ipython3",
   "version": "3.9.18"
  }
 },
 "nbformat": 4,
 "nbformat_minor": 5
}
