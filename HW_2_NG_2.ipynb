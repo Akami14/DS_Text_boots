{
 "cells": [
  {
   "cell_type": "code",
   "execution_count": 2,
   "id": "6cf61b41",
   "metadata": {},
   "outputs": [],
   "source": [
    "!pip install natasha -q"
   ]
  },
  {
   "cell_type": "markdown",
   "id": "81a38d58",
   "metadata": {},
   "source": [
    "Приложил к 1 лекции все методички по курсу\n",
    "\n",
    "**\n",
    "\n",
    "Домашнее задание 2 варианта на выбор:\n",
    "1 вариант (более легкий ) по ссылке https://gbcdn.mrgcdn.ru/uploads/asset/2800508/attachment/447973cb1f55a137a8a7eb4b175f4b47.pdf\n",
    "2 вариант (рекомендую его, он более объемный, но и больше навыков отрабатывается) по описанию ниже:\n",
    "все материалы для выполения дз в sem2.ipynb он находится в архиве Lesson-2.zip\n",
    "для скачивания данных пользуйтесь этими ссылками\n",
    "\n",
    "https://disk.yandex.ru/i/v5HM-ENiGXZVpQ\n",
    "https://disk.yandex.ru/i/koR5eMCToCZS2Q\n",
    "\n",
    "Задание 1.\n",
    "Задание: обучите три классификатора:\n",
    "\n",
    "1) на токенах с высокой частотой. ([ :N] частотных слов)\n",
    "\n",
    "2) на токенах со средней частотой ( [N:N+X] частотных слов)\n",
    "\n",
    "3) на токенах с низкой частотой( [N+X :] частотных слов)\n",
    "\n",
    "\n",
    "Сравните полученные результаты, оцените какие токены наиболее важные для классификации.\n",
    "\n",
    "Задание 2.\n",
    "найти фичи с наибольшей значимостью, и вывести их\n",
    "\n",
    "Задание 3.\n",
    "1) сравнить count/tf-idf/hashing векторайзеры/полносвязанную сетку (построить classification_report)\n",
    "\n",
    "2) подобрать оптимальный размер для hashing векторайзера\n",
    "\n",
    "3) убедиться что для сетки нет переобучения"
   ]
  },
  {
   "cell_type": "code",
   "execution_count": 3,
   "id": "dede9b45",
   "metadata": {},
   "outputs": [
    {
     "name": "stderr",
     "output_type": "stream",
     "text": [
      "[nltk_data] Downloading package stopwords to\n",
      "[nltk_data]     C:\\Users\\PC\\AppData\\Roaming\\nltk_data...\n",
      "[nltk_data]   Package stopwords is already up-to-date!\n",
      "[nltk_data] Downloading package punkt to\n",
      "[nltk_data]     C:\\Users\\PC\\AppData\\Roaming\\nltk_data...\n",
      "[nltk_data]   Package punkt is already up-to-date!\n"
     ]
    }
   ],
   "source": [
    "import pandas as pd\n",
    "import numpy as np\n",
    "\n",
    "from sklearn.metrics import classification_report\n",
    "from sklearn.model_selection import train_test_split\n",
    "from sklearn.pipeline import Pipeline\n",
    "from collections import Counter\n",
    "from nltk.corpus import stopwords\n",
    "from string import punctuation\n",
    "from sklearn.linear_model import LogisticRegression\n",
    "from sklearn.tree import DecisionTreeClassifier\n",
    "from sklearn.ensemble import RandomForestClassifier\n",
    "from sklearn.feature_extraction.text import CountVectorizer, TfidfVectorizer, HashingVectorizer\n",
    "from string import punctuation\n",
    "from stop_words import get_stop_words\n",
    "from pymorphy3 import MorphAnalyzer\n",
    "import re\n",
    "import nltk\n",
    "\n",
    "\n",
    "nltk.download('stopwords')\n",
    "nltk.download('punkt')\n",
    "\n",
    "import warnings\n",
    "warnings.filterwarnings(\"ignore\")"
   ]
  },
  {
   "cell_type": "code",
   "execution_count": 4,
   "id": "050e6a87",
   "metadata": {},
   "outputs": [],
   "source": [
    "pd.set_option('max_colwidth', 120)\n",
    "pd.set_option('display.width', 120)\n",
    "pd.set_option('display.width', 100)\n",
    "pd.set_option('display.expand_frame_repr', True)\n",
    "pd.set_option('styler.latex.multicol_align',  'naive-l')\n",
    "pd.set_option('display.colheader_justify', 'left')"
   ]
  },
  {
   "cell_type": "markdown",
   "id": "2045093b",
   "metadata": {},
   "source": [
    "## Прогрузка данных"
   ]
  },
  {
   "cell_type": "code",
   "execution_count": 5,
   "id": "14bdcd13",
   "metadata": {},
   "outputs": [],
   "source": [
    "import requests\n",
    "from urllib.parse import urlencode\n",
    "\n",
    "base_url = 'https://cloud-api.yandex.net/v1/disk/public/resources/download?'\n",
    "public_key = 'https://disk.yandex.ru/i/koR5eMCToCZS2Q'\n",
    "\n",
    "# Получаем загрузочную ссылку\n",
    "final_url = base_url + urlencode(dict(public_key=public_key))\n",
    "response = requests.get(final_url)\n",
    "download_url = response.json()['href']\n",
    "\n",
    "# Загружаем файл и сохраняем его\n",
    "download_response = requests.get(download_url)\n",
    "with open('positive.csv', 'wb') as f:\n",
    "    f.write(download_response.content)\n",
    "\n",
    "public_key = 'https://disk.yandex.ru/i/koR5eMCToCZS2Q'\n",
    "\n",
    "# Получаем загрузочную ссылку\n",
    "final_url = base_url + urlencode(dict(public_key=public_key))\n",
    "response = requests.get(final_url)\n",
    "download_url = response.json()['href']\n",
    "\n",
    "# Загружаем файл и сохраняем его\n",
    "download_response = requests.get(download_url)\n",
    "with open('negative.csv', 'wb') as f:\n",
    "    f.write(download_response.content)"
   ]
  },
  {
   "cell_type": "code",
   "execution_count": 6,
   "id": "2a917776",
   "metadata": {
    "scrolled": true
   },
   "outputs": [
    {
     "data": {
      "text/html": [
       "<div>\n",
       "<style scoped>\n",
       "    .dataframe tbody tr th:only-of-type {\n",
       "        vertical-align: middle;\n",
       "    }\n",
       "\n",
       "    .dataframe tbody tr th {\n",
       "        vertical-align: top;\n",
       "    }\n",
       "\n",
       "    .dataframe thead th {\n",
       "        text-align: right;\n",
       "    }\n",
       "</style>\n",
       "<table border=\"1\" class=\"dataframe\">\n",
       "  <thead>\n",
       "    <tr style=\"text-align: left;\">\n",
       "      <th></th>\n",
       "      <th>0</th>\n",
       "      <th>1</th>\n",
       "      <th>2</th>\n",
       "      <th>3</th>\n",
       "      <th>4</th>\n",
       "      <th>5</th>\n",
       "      <th>6</th>\n",
       "      <th>7</th>\n",
       "      <th>8</th>\n",
       "      <th>9</th>\n",
       "      <th>10</th>\n",
       "      <th>11</th>\n",
       "    </tr>\n",
       "  </thead>\n",
       "  <tbody>\n",
       "    <tr>\n",
       "      <th>0</th>\n",
       "      <td>408906692374446080</td>\n",
       "      <td>1386325927</td>\n",
       "      <td>pleease_shut_up</td>\n",
       "      <td>@first_timee хоть я и школота, но поверь, у нас то же самое :D общество профилирующий предмет типа)</td>\n",
       "      <td>1</td>\n",
       "      <td>0</td>\n",
       "      <td>0</td>\n",
       "      <td>0</td>\n",
       "      <td>7569</td>\n",
       "      <td>62</td>\n",
       "      <td>61</td>\n",
       "      <td>0</td>\n",
       "    </tr>\n",
       "    <tr>\n",
       "      <th>1</th>\n",
       "      <td>408906692693221377</td>\n",
       "      <td>1386325927</td>\n",
       "      <td>alinakirpicheva</td>\n",
       "      <td>Да, все-таки он немного похож на него. Но мой мальчик все равно лучше:D</td>\n",
       "      <td>1</td>\n",
       "      <td>0</td>\n",
       "      <td>0</td>\n",
       "      <td>0</td>\n",
       "      <td>11825</td>\n",
       "      <td>59</td>\n",
       "      <td>31</td>\n",
       "      <td>2</td>\n",
       "    </tr>\n",
       "    <tr>\n",
       "      <th>2</th>\n",
       "      <td>408906695083954177</td>\n",
       "      <td>1386325927</td>\n",
       "      <td>EvgeshaRe</td>\n",
       "      <td>RT @KatiaCheh: Ну ты идиотка) я испугалась за тебя!!!</td>\n",
       "      <td>1</td>\n",
       "      <td>0</td>\n",
       "      <td>1</td>\n",
       "      <td>0</td>\n",
       "      <td>1273</td>\n",
       "      <td>26</td>\n",
       "      <td>27</td>\n",
       "      <td>0</td>\n",
       "    </tr>\n",
       "  </tbody>\n",
       "</table>\n",
       "</div>"
      ],
      "text/plain": [
       "   0                   1          2                 \\\n",
       "0  408906692374446080  1386325927  pleease_shut_up   \n",
       "1  408906692693221377  1386325927  alinakirpicheva   \n",
       "2  408906695083954177  1386325927        EvgeshaRe   \n",
       "\n",
       "  3                                                                                                     \\\n",
       "0  @first_timee хоть я и школота, но поверь, у нас то же самое :D общество профилирующий предмет типа)   \n",
       "1                              Да, все-таки он немного похож на него. Но мой мальчик все равно лучше:D   \n",
       "2                                                RT @KatiaCheh: Ну ты идиотка) я испугалась за тебя!!!   \n",
       "\n",
       "   4   5   6   7   8      9   10  11  \n",
       "0  1   0   0   0    7569  62  61  0   \n",
       "1  1   0   0   0   11825  59  31  2   \n",
       "2  1   0   1   0    1273  26  27  0   "
      ]
     },
     "execution_count": 6,
     "metadata": {},
     "output_type": "execute_result"
    }
   ],
   "source": [
    "positive_2 = pd.read_csv('positive.csv', sep=';', header= None)\n",
    "positive_2.head(3)"
   ]
  },
  {
   "cell_type": "code",
   "execution_count": 7,
   "id": "04773f83",
   "metadata": {},
   "outputs": [],
   "source": [
    "# считываем данные и заполняем общий датасет\n",
    "positive = pd.read_csv('positive.csv', sep=';', usecols=[3], names=['text'], header= None) # заголовков в csv нет  -header= None калонка с нужным текстом 3 usecols=[3]\n",
    "positive['label'] =  1\n",
    "negative = pd.read_csv('negative.csv', sep=';', usecols=[3], names=['text'], header= None)\n",
    "negative['label'] = 0\n",
    "df = pd.concat([negative,positive], axis=0 )\n",
    "\n",
    "df = df.sample(frac=1).reset_index(drop=True) #шафлим что бы данные не шли друг за другом для наглядности\n"
   ]
  },
  {
   "cell_type": "code",
   "execution_count": 8,
   "id": "b04d31bf",
   "metadata": {
    "scrolled": true
   },
   "outputs": [
    {
     "data": {
      "text/html": [
       "<div>\n",
       "<style scoped>\n",
       "    .dataframe tbody tr th:only-of-type {\n",
       "        vertical-align: middle;\n",
       "    }\n",
       "\n",
       "    .dataframe tbody tr th {\n",
       "        vertical-align: top;\n",
       "    }\n",
       "\n",
       "    .dataframe thead th {\n",
       "        text-align: right;\n",
       "    }\n",
       "</style>\n",
       "<table border=\"1\" class=\"dataframe\">\n",
       "  <thead>\n",
       "    <tr style=\"text-align: left;\">\n",
       "      <th></th>\n",
       "      <th>text</th>\n",
       "      <th>label</th>\n",
       "    </tr>\n",
       "  </thead>\n",
       "  <tbody>\n",
       "    <tr>\n",
       "      <th>0</th>\n",
       "      <td>@rapiluxa поздравляю тебя. мы уже 10 месяцев вместе:) люблю тебя:) \\n10-это вечность</td>\n",
       "      <td>1</td>\n",
       "    </tr>\n",
       "    <tr>\n",
       "      <th>1</th>\n",
       "      <td>RT @ILONAPilipenko: @swagarin не беспокойся, цвет постепенно смывается, не вредно это)</td>\n",
       "      <td>1</td>\n",
       "    </tr>\n",
       "    <tr>\n",
       "      <th>2</th>\n",
       "      <td>поразило, когда беркут подъехал штурмовать кмда, со стороны Крещатика подошли Люди...и вломили им хорошей пиздяки. б...</td>\n",
       "      <td>0</td>\n",
       "    </tr>\n",
       "    <tr>\n",
       "      <th>3</th>\n",
       "      <td>RT @LinUndead: @_PerfectDenial_ ОЙ,КАКТУСИК,ТЫ ШТОО\\nДАВАЙ ПОПРААВЛЯЙСЯ,НАМ БОЛЬНЫЕ НЕ НУЖНЫ!!!\\nВЫЗДОРААВЛИВАЙ:*</td>\n",
       "      <td>1</td>\n",
       "    </tr>\n",
       "    <tr>\n",
       "      <th>4</th>\n",
       "      <td>@LarryInMy_Heart без всяких вопросов !) прочла твиты мяса,сижу -ржу</td>\n",
       "      <td>1</td>\n",
       "    </tr>\n",
       "    <tr>\n",
       "      <th>...</th>\n",
       "      <td>...</td>\n",
       "      <td>...</td>\n",
       "    </tr>\n",
       "    <tr>\n",
       "      <th>85</th>\n",
       "      <td>@dudinskiy ох, еклмн! Ты имя что ли сменил? Смотри, а то так и до смены пола и, что хуже, клуба дойдет! ;-)</td>\n",
       "      <td>0</td>\n",
       "    </tr>\n",
       "    <tr>\n",
       "      <th>86</th>\n",
       "      <td>RT @oblivionx86: В природе есть трое существ, которые при -25°С никогда не мёрзнут:\\n1) пингвины;\\n2) белые медведи;...</td>\n",
       "      <td>1</td>\n",
       "    </tr>\n",
       "    <tr>\n",
       "      <th>87</th>\n",
       "      <td>Залезла в тви и поняла, что я забыла загадать желание, пиздец память:)</td>\n",
       "      <td>1</td>\n",
       "    </tr>\n",
       "    <tr>\n",
       "      <th>88</th>\n",
       "      <td>@BirdParadise17 обожаю слушать музыку и рассматривать людей, предполагая кем они являются, и как складывается их жизнь)</td>\n",
       "      <td>0</td>\n",
       "    </tr>\n",
       "    <tr>\n",
       "      <th>89</th>\n",
       "      <td>@vonakoK_lA @nazisatan @yakovleva_gala каждому свое)</td>\n",
       "      <td>1</td>\n",
       "    </tr>\n",
       "  </tbody>\n",
       "</table>\n",
       "<p>90 rows × 2 columns</p>\n",
       "</div>"
      ],
      "text/plain": [
       "   text                                                                                                                      \\\n",
       "0                                      @rapiluxa поздравляю тебя. мы уже 10 месяцев вместе:) люблю тебя:) \\n10-это вечность   \n",
       "1                                    RT @ILONAPilipenko: @swagarin не беспокойся, цвет постепенно смывается, не вредно это)   \n",
       "2   поразило, когда беркут подъехал штурмовать кмда, со стороны Крещатика подошли Люди...и вломили им хорошей пиздяки. б...   \n",
       "3         RT @LinUndead: @_PerfectDenial_ ОЙ,КАКТУСИК,ТЫ ШТОО\\nДАВАЙ ПОПРААВЛЯЙСЯ,НАМ БОЛЬНЫЕ НЕ НУЖНЫ!!!\\nВЫЗДОРААВЛИВАЙ:*   \n",
       "4                                                       @LarryInMy_Heart без всяких вопросов !) прочла твиты мяса,сижу -ржу   \n",
       "..                                                                                                                      ...   \n",
       "85              @dudinskiy ох, еклмн! Ты имя что ли сменил? Смотри, а то так и до смены пола и, что хуже, клуба дойдет! ;-)   \n",
       "86  RT @oblivionx86: В природе есть трое существ, которые при -25°С никогда не мёрзнут:\\n1) пингвины;\\n2) белые медведи;...   \n",
       "87                                                   Залезла в тви и поняла, что я забыла загадать желание, пиздец память:)   \n",
       "88  @BirdParadise17 обожаю слушать музыку и рассматривать людей, предполагая кем они являются, и как складывается их жизнь)   \n",
       "89                                                                     @vonakoK_lA @nazisatan @yakovleva_gala каждому свое)   \n",
       "\n",
       "    label  \n",
       "0   1      \n",
       "1   1      \n",
       "2   0      \n",
       "3   1      \n",
       "4   1      \n",
       "..    ...  \n",
       "85  0      \n",
       "86  1      \n",
       "87  1      \n",
       "88  0      \n",
       "89  1      \n",
       "\n",
       "[90 rows x 2 columns]"
      ]
     },
     "execution_count": 8,
     "metadata": {},
     "output_type": "execute_result"
    }
   ],
   "source": [
    "df.head(90)"
   ]
  },
  {
   "cell_type": "markdown",
   "id": "1c4d38c0",
   "metadata": {},
   "source": [
    "## Препроцесинг\n"
   ]
  },
  {
   "cell_type": "code",
   "execution_count": 9,
   "id": "bbfad252",
   "metadata": {},
   "outputs": [
    {
     "data": {
      "text/html": [
       "<div>\n",
       "<style scoped>\n",
       "    .dataframe tbody tr th:only-of-type {\n",
       "        vertical-align: middle;\n",
       "    }\n",
       "\n",
       "    .dataframe tbody tr th {\n",
       "        vertical-align: top;\n",
       "    }\n",
       "\n",
       "    .dataframe thead th {\n",
       "        text-align: right;\n",
       "    }\n",
       "</style>\n",
       "<table border=\"1\" class=\"dataframe\">\n",
       "  <thead>\n",
       "    <tr style=\"text-align: left;\">\n",
       "      <th></th>\n",
       "      <th>text</th>\n",
       "      <th>label</th>\n",
       "    </tr>\n",
       "  </thead>\n",
       "  <tbody>\n",
       "    <tr>\n",
       "      <th>0</th>\n",
       "      <td>@rapiluxa поздравляю тебя. мы уже 10 месяцев вместе: счастлив люблю тебя: счастлив 10-это вечность</td>\n",
       "      <td>1</td>\n",
       "    </tr>\n",
       "    <tr>\n",
       "      <th>1</th>\n",
       "      <td>RT @ILONAPilipenko: @swagarin не беспокойся, цвет постепенно смывается, не вредно это счастлив</td>\n",
       "      <td>1</td>\n",
       "    </tr>\n",
       "    <tr>\n",
       "      <th>2</th>\n",
       "      <td>поразило, когда беркут подъехал штурмовать кмда, со стороны Крещатика подошли Люди...и вломили им хорошей пиздяки. б...</td>\n",
       "      <td>0</td>\n",
       "    </tr>\n",
       "    <tr>\n",
       "      <th>3</th>\n",
       "      <td>RT @LinUndead: @_PerfectDenial_ ОЙ,КАКТУСИК,ТЫ ШТОО ДАВАЙ ПОПРААВЛЯЙСЯ,НАМ БОЛЬНЫЕ НЕ НУЖНЫ!!! ВЫЗДОРААВЛИВАЙ:*</td>\n",
       "      <td>1</td>\n",
       "    </tr>\n",
       "    <tr>\n",
       "      <th>4</th>\n",
       "      <td>@LarryInMy_Heart без всяких вопросов счастлив прочла твиты мяса,сижу -ржу</td>\n",
       "      <td>1</td>\n",
       "    </tr>\n",
       "  </tbody>\n",
       "</table>\n",
       "</div>"
      ],
      "text/plain": [
       "  text                                                                                                                      \\\n",
       "0                       @rapiluxa поздравляю тебя. мы уже 10 месяцев вместе: счастлив люблю тебя: счастлив 10-это вечность   \n",
       "1                           RT @ILONAPilipenko: @swagarin не беспокойся, цвет постепенно смывается, не вредно это счастлив   \n",
       "2  поразило, когда беркут подъехал штурмовать кмда, со стороны Крещатика подошли Люди...и вломили им хорошей пиздяки. б...   \n",
       "3          RT @LinUndead: @_PerfectDenial_ ОЙ,КАКТУСИК,ТЫ ШТОО ДАВАЙ ПОПРААВЛЯЙСЯ,НАМ БОЛЬНЫЕ НЕ НУЖНЫ!!! ВЫЗДОРААВЛИВАЙ:*   \n",
       "4                                                @LarryInMy_Heart без всяких вопросов счастлив прочла твиты мяса,сижу -ржу   \n",
       "\n",
       "   label  \n",
       "0  1      \n",
       "1  1      \n",
       "2  0      \n",
       "3  1      \n",
       "4  1      "
      ]
     },
     "execution_count": 9,
     "metadata": {},
     "output_type": "execute_result"
    }
   ],
   "source": [
    "\n",
    "emoticon_dict = {'\\(+': ' грустно', '\\)+': ' счастлив', ' ax+': 'счастлив', ':D': 'счастлив'} # \\S+ не пробелы\n",
    "df['text']= df['text'].replace(emoticon_dict, regex=True)\n",
    "\n",
    "df['text'] = df['text'].apply(lambda x: ' '.join([w for w in x.split() if len(w)>1]))\n",
    "df.head()"
   ]
  },
  {
   "cell_type": "code",
   "execution_count": 10,
   "id": "c5beda5a",
   "metadata": {},
   "outputs": [],
   "source": [
    "sw = list(set(get_stop_words(\"ru\")))\n",
    "\n",
    "exclude = set(punctuation)\n",
    "morpher = MorphAnalyzer()\n",
    "\n",
    "def preprocess_text(txt):\n",
    "  \n",
    "    txt = str(txt)\n",
    "    \n",
    "    txt = re.sub(r'#\\S+', '', txt) # удалит хештеги  \n",
    "    txt = re.sub(r'@\\S+', '', txt) # удалит упоминани \n",
    "    txt = re.sub(r'\\d', '', txt) # удалит упоминани \n",
    "    txt = re.sub('http\\S+\\s*', '', txt) # удалит URL  \n",
    "    txt = re.sub('RT|cc', '', txt) # удалит RT и cc\n",
    "\n",
    "    txt = \"\".join(c for c in txt if c not in exclude)\n",
    "    txt = txt.lower()\n",
    "    txt = re.sub('\\s+', ' ', txt) # заменит пробельные символы на 1 пробел \n",
    "    \n",
    "    txt = [morpher.parse(word)[0].normal_form for word in txt.split() if word not in sw]\n",
    "    return \" \".join(txt)\n",
    "\n",
    "df['text'] = df['text'].apply(preprocess_text)"
   ]
  },
  {
   "cell_type": "code",
   "execution_count": 11,
   "id": "99358bc0",
   "metadata": {},
   "outputs": [
    {
     "data": {
      "text/html": [
       "<div>\n",
       "<style scoped>\n",
       "    .dataframe tbody tr th:only-of-type {\n",
       "        vertical-align: middle;\n",
       "    }\n",
       "\n",
       "    .dataframe tbody tr th {\n",
       "        vertical-align: top;\n",
       "    }\n",
       "\n",
       "    .dataframe thead th {\n",
       "        text-align: right;\n",
       "    }\n",
       "</style>\n",
       "<table border=\"1\" class=\"dataframe\">\n",
       "  <thead>\n",
       "    <tr style=\"text-align: left;\">\n",
       "      <th></th>\n",
       "      <th>text</th>\n",
       "      <th>label</th>\n",
       "    </tr>\n",
       "  </thead>\n",
       "  <tbody>\n",
       "    <tr>\n",
       "      <th>0</th>\n",
       "      <td>поздравлять месяц вместе счастливый любить счастливый вечность</td>\n",
       "      <td>1</td>\n",
       "    </tr>\n",
       "    <tr>\n",
       "      <th>1</th>\n",
       "      <td>беспокоиться цвет постепенно смываться вредный счастливый</td>\n",
       "      <td>1</td>\n",
       "    </tr>\n",
       "    <tr>\n",
       "      <th>2</th>\n",
       "      <td>поразить беркут подъехать штурмовать кмд сторона крещатик подойти людия вломить хороший пиздяк беркут буля шоцi счас...</td>\n",
       "      <td>0</td>\n",
       "    </tr>\n",
       "    <tr>\n",
       "      <th>3</th>\n",
       "      <td>ойкактусикт штоо давать попраавляйсян больной нужный выздораавливать</td>\n",
       "      <td>1</td>\n",
       "    </tr>\n",
       "  </tbody>\n",
       "</table>\n",
       "</div>"
      ],
      "text/plain": [
       "  text                                                                                                                      \\\n",
       "0                                                           поздравлять месяц вместе счастливый любить счастливый вечность   \n",
       "1                                                                беспокоиться цвет постепенно смываться вредный счастливый   \n",
       "2  поразить беркут подъехать штурмовать кмд сторона крещатик подойти людия вломить хороший пиздяк беркут буля шоцi счас...   \n",
       "3                                                     ойкактусикт штоо давать попраавляйсян больной нужный выздораавливать   \n",
       "\n",
       "   label  \n",
       "0  1      \n",
       "1  1      \n",
       "2  0      \n",
       "3  1      "
      ]
     },
     "execution_count": 11,
     "metadata": {},
     "output_type": "execute_result"
    }
   ],
   "source": [
    "df.head(4)"
   ]
  },
  {
   "cell_type": "code",
   "execution_count": 12,
   "id": "35ea9776",
   "metadata": {},
   "outputs": [
    {
     "name": "stdout",
     "output_type": "stream",
     "text": [
      "1599216\n"
     ]
    },
    {
     "data": {
      "text/plain": [
       "['логарифмылюбить',\n",
       " 'литература',\n",
       " 'счастливый',\n",
       " 'сопричастный',\n",
       " 'поздравлять',\n",
       " 'всемирный',\n",
       " 'день',\n",
       " 'футбол']"
      ]
     },
     "execution_count": 12,
     "metadata": {},
     "output_type": "execute_result"
    }
   ],
   "source": [
    "corpus = [token for tweet in df['text']\n",
    "          for token in nltk.tokenize.word_tokenize(tweet)]\n",
    "print(len(corpus))\n",
    "corpus[97:105]"
   ]
  },
  {
   "cell_type": "code",
   "execution_count": 13,
   "id": "f4c3468a",
   "metadata": {
    "scrolled": true
   },
   "outputs": [
    {
     "data": {
      "text/plain": [
       "[('счастливый', 243282),\n",
       " ('знать', 6426),\n",
       " ('любить', 6152),\n",
       " ('хотеть', 6108),\n",
       " ('хороший', 6010),\n",
       " ('новый', 5356),\n",
       " ('мой', 4886),\n",
       " ('смотреть', 4686),\n",
       " ('день', 4534),\n",
       " ('завтра', 3954)]"
      ]
     },
     "execution_count": 13,
     "metadata": {},
     "output_type": "execute_result"
    }
   ],
   "source": [
    "freq_dict = Counter(corpus)\n",
    "freq_dict.most_common(10)"
   ]
  },
  {
   "cell_type": "code",
   "execution_count": 14,
   "id": "fc2cf383",
   "metadata": {},
   "outputs": [
    {
     "data": {
      "text/plain": [
       "(103514, 34505, 69010)"
      ]
     },
     "execution_count": 14,
     "metadata": {},
     "output_type": "execute_result"
    }
   ],
   "source": [
    "len_courpus = int(len(freq_dict))\n",
    "the_third = int(round(len(freq_dict)/3))\n",
    "two_third = int(the_third*2)\n",
    "len_courpus, the_third, two_third"
   ]
  },
  {
   "cell_type": "code",
   "execution_count": 15,
   "id": "be93cf4a",
   "metadata": {},
   "outputs": [],
   "source": [
    "most_frequent_tokens = [item[0] for item in freq_dict.most_common(len_courpus)][:the_third]\n",
    "avg_frequent_tokens = [item[0] for item in freq_dict.most_common(len_courpus)][the_third:two_third]\n",
    "less_frequent_tokens = [item[0] for item in freq_dict.most_common(len_courpus)][two_third:]\n",
    "all_tokens = [item[0] for item in freq_dict.most_common(len_courpus)]"
   ]
  },
  {
   "cell_type": "code",
   "execution_count": 16,
   "id": "3f1d0acf",
   "metadata": {},
   "outputs": [],
   "source": [
    "X_train, X_test, y_train, y_test = train_test_split(df['text'], df['label'], random_state=42, stratify=df['label'])"
   ]
  },
  {
   "cell_type": "code",
   "execution_count": 179,
   "id": "169a1b4f",
   "metadata": {},
   "outputs": [],
   "source": [
    "import matplotlib.pyplot as plt"
   ]
  },
  {
   "cell_type": "code",
   "execution_count": 180,
   "id": "dd24a5e2",
   "metadata": {},
   "outputs": [
    {
     "data": {
      "image/png": "[encoded data removed]",
      "text/plain": [
       "<Figure size 900x900 with 1 Axes>"
      ]
     },
     "metadata": {},
     "output_type": "display_data"
    }
   ],
   "source": [
    "plt.subplots(figsize=(9, 9))\n",
    "\n",
    "labels = \"Positive\",\"Negative\"\n",
    "size = 0.7\n",
    "\n",
    "wedges, texts, autotexts = plt.pie([len(df[df[\"label\"]==1][\"label\"]),\n",
    "                                    len(df[df[\"label\"]==0][\"label\"])],\n",
    "                                    explode = (0.2,0),\n",
    "                                    textprops=dict(size= 16, color= \"white\"), # размер и цвет текста внутри диаграмы\n",
    "                                    autopct=\"%.2f%%\",\n",
    "                                    pctdistance = 0.5, # положение текста значение процентов\n",
    "                                    radius=0.9,\n",
    "                                    shadow = True, # добовляет эфект тени к диаграме\n",
    "                                    wedgeprops=dict(width = size, edgecolor = \"white\",\n",
    "                                    linewidth = 5), # круг добовляет в центре\n",
    "                                    startangle = 0, colors= ['red', 'blue'])\n",
    "\n",
    "plt.legend(wedges, labels, title=\"Category\",loc=\"center left\",bbox_to_anchor=(1, 0, 0.5, 1))\n",
    "plt.title(\"\\nTarget labels distribution\",fontsize=16)\n",
    "plt.show()"
   ]
  },
  {
   "cell_type": "code",
   "execution_count": 181,
   "id": "79e5515a",
   "metadata": {},
   "outputs": [
    {
     "data": {
      "text/plain": [
       "11491"
      ]
     },
     "execution_count": 181,
     "metadata": {},
     "output_type": "execute_result"
    }
   ],
   "source": [
    "min_samples_split_1 = round(len(df.index)*0.05) # при достижении 5 % данныъ в узле перестаем строить строить дерево\n",
    "min_samples_split_1"
   ]
  },
  {
   "cell_type": "markdown",
   "id": "3fca38c5",
   "metadata": {},
   "source": [
    "## Поиск по наиболее частым словам"
   ]
  },
  {
   "cell_type": "code",
   "execution_count": 182,
   "id": "51e51a34",
   "metadata": {},
   "outputs": [
    {
     "name": "stdout",
     "output_type": "stream",
     "text": [
      "CPU times: total: 0 ns\n",
      "Wall time: 0 ns\n",
      "              precision    recall  f1-score   support\n",
      "\n",
      "           0       0.27      0.28      0.28     27983\n",
      "           1       0.30      0.29      0.30     29473\n",
      "\n",
      "    accuracy                           0.29     57456\n",
      "   macro avg       0.29      0.29      0.29     57456\n",
      "weighted avg       0.29      0.29      0.29     57456\n",
      "\n"
     ]
    }
   ],
   "source": [
    "%time\n",
    "vec = CountVectorizer(ngram_range=(1, 1), tokenizer=nltk.tokenize.word_tokenize, vocabulary=most_frequent_tokens)\n",
    "X_train_transform = vec.fit_transform(X_train)\n",
    "forest = DecisionTreeClassifier(criterion='gini', min_samples_split=min_samples_split_1)\n",
    "forest.fit(X_train_transform, y_train)\n",
    "pred = forest.predict(vec.transform(X_test))\n",
    "print(classification_report(pred, y_test))"
   ]
  },
  {
   "cell_type": "markdown",
   "id": "7ef90f81",
   "metadata": {},
   "source": [
    "## Слова средней встречаемости"
   ]
  },
  {
   "cell_type": "code",
   "execution_count": 183,
   "id": "e6511db7",
   "metadata": {},
   "outputs": [
    {
     "name": "stdout",
     "output_type": "stream",
     "text": [
      "              precision    recall  f1-score   support\n",
      "\n",
      "           0       0.86      0.46      0.60     53417\n",
      "           1       0.00      0.00      0.00      4039\n",
      "\n",
      "    accuracy                           0.43     57456\n",
      "   macro avg       0.43      0.23      0.30     57456\n",
      "weighted avg       0.80      0.43      0.56     57456\n",
      "\n"
     ]
    }
   ],
   "source": [
    "vec = CountVectorizer(ngram_range=(1, 1), tokenizer=nltk.tokenize.word_tokenize, vocabulary=avg_frequent_tokens)\n",
    "X_train_transform = vec.fit_transform(X_train)\n",
    "forest = DecisionTreeClassifier(criterion='gini', min_samples_split=min_samples_split_1)\n",
    "forest.fit(X_train_transform, y_train)\n",
    "pred = forest.predict(vec.transform(X_test))\n",
    "print(classification_report(pred, y_test))"
   ]
  },
  {
   "cell_type": "markdown",
   "id": "1710c990",
   "metadata": {},
   "source": [
    "## Наименее встречающиеся слова"
   ]
  },
  {
   "cell_type": "code",
   "execution_count": 184,
   "id": "c626f546",
   "metadata": {},
   "outputs": [
    {
     "name": "stdout",
     "output_type": "stream",
     "text": [
      "              precision    recall  f1-score   support\n",
      "\n",
      "           0       0.86      0.46      0.60     53335\n",
      "           1       0.00      0.00      0.00      4121\n",
      "\n",
      "    accuracy                           0.43     57456\n",
      "   macro avg       0.43      0.23      0.30     57456\n",
      "weighted avg       0.80      0.43      0.56     57456\n",
      "\n"
     ]
    }
   ],
   "source": [
    "vec = CountVectorizer(ngram_range=(1, 1), tokenizer=nltk.tokenize.word_tokenize, vocabulary=less_frequent_tokens)\n",
    "X_train_transform = vec.fit_transform(X_train)\n",
    "forest = DecisionTreeClassifier(criterion='gini', min_samples_split=min_samples_split_1)\n",
    "forest.fit(X_train_transform, y_train)\n",
    "pred = forest.predict(vec.transform(X_test))\n",
    "print(classification_report(pred, y_test))"
   ]
  },
  {
   "cell_type": "markdown",
   "id": "420e33c8",
   "metadata": {},
   "source": [
    "## Все слова"
   ]
  },
  {
   "cell_type": "code",
   "execution_count": 186,
   "id": "ece62206",
   "metadata": {},
   "outputs": [
    {
     "name": "stdout",
     "output_type": "stream",
     "text": [
      "              precision    recall  f1-score   support\n",
      "\n",
      "           0       0.28      0.26      0.27     30671\n",
      "           1       0.21      0.23      0.22     26785\n",
      "\n",
      "    accuracy                           0.25     57456\n",
      "   macro avg       0.25      0.24      0.24     57456\n",
      "weighted avg       0.25      0.25      0.25     57456\n",
      "\n"
     ]
    }
   ],
   "source": [
    "vec = CountVectorizer(ngram_range=(1, 1), tokenizer=nltk.tokenize.word_tokenize, vocabulary=all_tokens)\n",
    "X_train_transform = vec.fit_transform(X_train)\n",
    "forest = DecisionTreeClassifier(criterion='gini', min_samples_split=min_samples_split_1)\n",
    "forest.fit(X_train_transform, y_train)\n",
    "pred = forest.predict(vec.transform(X_test))\n",
    "print(classification_report(pred, y_test))"
   ]
  },
  {
   "cell_type": "code",
   "execution_count": 209,
   "id": "a3e690cf",
   "metadata": {
    "scrolled": true
   },
   "outputs": [
    {
     "name": "stdout",
     "output_type": "stream",
     "text": [
      "('силовой', 11622)\n",
      "('барнаул', 11294)\n",
      "('поставиться', 12574)\n",
      "('грустно', 2107)\n",
      "('уууууа', 9250)\n",
      "('пысый', 7243)\n",
      "('превзойти', 10596)\n",
      "('поедание', 16372)\n",
      "('нвк', 15218)\n",
      "('пойдусчастливый', 12711)\n",
      "('захвалить', 16104)\n",
      "('фотать', 15851)\n",
      "('изабелла', 15780)\n",
      "('новозеландский', 12665)\n",
      "('forever', 14210)\n",
      "('быстро', 316)\n",
      "('разговор', 546)\n",
      "('приготовиться', 9846)\n",
      "('сашка', 2000)\n",
      "('бич', 8253)\n"
     ]
    }
   ],
   "source": [
    "coefs = forest.feature_importances_\n",
    "top_coefs = np.argsort(coefs)[-20:] # берем 20 последних индексов np.argsort сртирует данные по индексам в порядке возврастания\n",
    "tokens = list(vec.vocabulary_.items())\n",
    "for el in reversed(top_coefs):\n",
    "    print(tokens[el])"
   ]
  },
  {
   "cell_type": "markdown",
   "id": "34c84cb1",
   "metadata": {},
   "source": [
    "###### Наиболее часто употребляемые слова показывают лучшее разделение по классам   даже в сравнение с использованием всего словаря"
   ]
  },
  {
   "cell_type": "markdown",
   "id": "97c1c57f",
   "metadata": {},
   "source": [
    "# Сравнение count tf-idf hashing "
   ]
  },
  {
   "cell_type": "markdown",
   "id": "07410cda",
   "metadata": {},
   "source": [
    "## TFIDF"
   ]
  },
  {
   "cell_type": "code",
   "execution_count": 210,
   "id": "4d163a33",
   "metadata": {},
   "outputs": [
    {
     "name": "stdout",
     "output_type": "stream",
     "text": [
      "              precision    recall  f1-score   support\n",
      "\n",
      "           0       0.26      0.25      0.25     30568\n",
      "           1       0.20      0.21      0.20     26888\n",
      "\n",
      "    accuracy                           0.23     57456\n",
      "   macro avg       0.23      0.23      0.23     57456\n",
      "weighted avg       0.23      0.23      0.23     57456\n",
      "\n"
     ]
    }
   ],
   "source": [
    "vec = TfidfVectorizer(ngram_range=(1, 1), tokenizer=nltk.tokenize.word_tokenize, vocabulary=most_frequent_tokens)\n",
    "X_train_transform = vec.fit_transform(X_train)\n",
    "forest = DecisionTreeClassifier(criterion='gini', min_samples_split=min_samples_split_1)\n",
    "forest.fit(X_train_transform, y_train)\n",
    "pred = forest.predict(vec.transform(X_test))\n",
    "print(classification_report(pred, y_test))"
   ]
  },
  {
   "cell_type": "markdown",
   "id": "6de76e24",
   "metadata": {},
   "source": [
    "## HashingVectorizer"
   ]
  },
  {
   "cell_type": "code",
   "execution_count": 213,
   "id": "8619df69",
   "metadata": {},
   "outputs": [
    {
     "name": "stdout",
     "output_type": "stream",
     "text": [
      "              precision    recall  f1-score   support\n",
      "\n",
      "           0       0.28      0.26      0.27     30689\n",
      "           1       0.21      0.22      0.22     26767\n",
      "\n",
      "    accuracy                           0.24     57456\n",
      "   macro avg       0.24      0.24      0.24     57456\n",
      "weighted avg       0.25      0.24      0.24     57456\n",
      "\n"
     ]
    }
   ],
   "source": [
    "vec = HashingVectorizer(n_features=the_third,)\n",
    "X_train_transform = vec.fit_transform(X_train)\n",
    "forest = DecisionTreeClassifier(criterion='gini', min_samples_split=min_samples_split_1)\n",
    "forest.fit(X_train_transform, y_train)\n",
    "pred = forest.predict(vec.transform(X_test))\n",
    "print(classification_report(pred, y_test))"
   ]
  },
  {
   "cell_type": "markdown",
   "id": "08654c84",
   "metadata": {},
   "source": [
    "##  Нейроная сеть "
   ]
  },
  {
   "cell_type": "code",
   "execution_count": 75,
   "id": "454d8e25",
   "metadata": {},
   "outputs": [],
   "source": [
    "import tensorflow as tf\n",
    "from tensorflow.keras import Sequential\n",
    "from tensorflow.keras.layers import Dense, Embedding, GlobalAveragePooling1D, Conv1D, GRU, LSTM, Dropout, SimpleRNN\n",
    "from tensorflow.keras.layers.experimental.preprocessing import TextVectorization"
   ]
  },
  {
   "cell_type": "code",
   "execution_count": 76,
   "id": "54d59349",
   "metadata": {},
   "outputs": [],
   "source": [
    "\n",
    "train = tf.data.Dataset.from_tensor_slices((X_train, y_train))\n",
    "valid = tf.data.Dataset.from_tensor_slices((X_test, y_test))\n",
    "train = train.batch(1024)\n",
    "valid = valid.batch(1024)\n"
   ]
  },
  {
   "cell_type": "code",
   "execution_count": 77,
   "id": "7d543edc",
   "metadata": {},
   "outputs": [],
   "source": [
    "AUTOTUNE = tf.data.AUTOTUNE\n",
    "\n",
    "train = train.cache().prefetch(buffer_size=AUTOTUNE)\n",
    "valid = valid.cache().prefetch(buffer_size=AUTOTUNE)"
   ]
  },
  {
   "cell_type": "code",
   "execution_count": 78,
   "id": "324b9895",
   "metadata": {},
   "outputs": [],
   "source": [
    "def custom_standardization(input_data):\n",
    "\n",
    "    return input_data"
   ]
  },
  {
   "cell_type": "code",
   "execution_count": 84,
   "id": "57b96dcd",
   "metadata": {},
   "outputs": [],
   "source": [
    "vocab_size = 13000\n",
    "seq_len = 91\n",
    "\n",
    "vectorize_layer = TextVectorization(\n",
    "    standardize=custom_standardization,\n",
    "    max_tokens=vocab_size,\n",
    "    output_mode='int',\n",
    "    output_sequence_length=seq_len)\n",
    "\n",
    "# Make a text-only dataset (no labels) and call adapt to build the vocabulary.\n",
    "text_data = train.map(lambda x, y: x)\n",
    "vectorize_layer.adapt(text_data)\n",
    "embedding_dim=2000\n",
    "\n",
    "model = Sequential([\n",
    "    vectorize_layer,\n",
    "    Embedding(vocab_size, embedding_dim),\n",
    "    SimpleRNN(64),\n",
    "    Dropout(0.5),\n",
    "    Dense(32, activation='relu'),\n",
    "    Dropout(0.5),\n",
    "    Dense(1)\n",
    "])"
   ]
  },
  {
   "cell_type": "code",
   "execution_count": 85,
   "id": "02306646",
   "metadata": {},
   "outputs": [],
   "source": [
    "optimizer = tf.keras.optimizers.RMSprop(learning_rate=1e-5)\n",
    "#Adam(learning_rate=1e-3)\n",
    "model.compile(optimizer=optimizer,\n",
    "              loss=tf.keras.losses.BinaryCrossentropy(from_logits=True),\n",
    "              metrics=['accuracy'])"
   ]
  },
  {
   "cell_type": "code",
   "execution_count": 86,
   "id": "23027553",
   "metadata": {},
   "outputs": [
    {
     "name": "stdout",
     "output_type": "stream",
     "text": [
      "Num GPUs Available:  1\n"
     ]
    }
   ],
   "source": [
    "print(\"Num GPUs Available: \", len(tf.config.list_physical_devices('GPU')))"
   ]
  },
  {
   "cell_type": "code",
   "execution_count": 87,
   "id": "778e3d6b",
   "metadata": {
    "scrolled": false
   },
   "outputs": [
    {
     "name": "stdout",
     "output_type": "stream",
     "text": [
      "Epoch 1/10\n",
      "169/169 [==============================] - 26s 149ms/step - loss: 0.6961 - accuracy: 0.4999 - val_loss: 0.6936 - val_accuracy: 0.5000\n",
      "Epoch 2/10\n",
      "169/169 [==============================] - 25s 149ms/step - loss: 0.6948 - accuracy: 0.5000 - val_loss: 0.6936 - val_accuracy: 0.5000\n",
      "Epoch 3/10\n",
      "169/169 [==============================] - 25s 150ms/step - loss: 0.6943 - accuracy: 0.5000 - val_loss: 0.6937 - val_accuracy: 0.5000\n",
      "Epoch 4/10\n",
      "169/169 [==============================] - 26s 154ms/step - loss: 0.6941 - accuracy: 0.5000 - val_loss: 0.6937 - val_accuracy: 0.5000\n",
      "Epoch 5/10\n",
      "169/169 [==============================] - 26s 152ms/step - loss: 0.6939 - accuracy: 0.5000 - val_loss: 0.6937 - val_accuracy: 0.5000\n",
      "Epoch 6/10\n",
      "169/169 [==============================] - 26s 153ms/step - loss: 0.6938 - accuracy: 0.5000 - val_loss: 0.6936 - val_accuracy: 0.5000\n",
      "Epoch 7/10\n",
      "169/169 [==============================] - 26s 152ms/step - loss: 0.6936 - accuracy: 0.5000 - val_loss: 0.6937 - val_accuracy: 0.5000\n",
      "Epoch 8/10\n",
      "169/169 [==============================] - 26s 152ms/step - loss: 0.6936 - accuracy: 0.5000 - val_loss: 0.6936 - val_accuracy: 0.5000\n",
      "Epoch 9/10\n",
      "169/169 [==============================] - 26s 153ms/step - loss: 0.6934 - accuracy: 0.5000 - val_loss: 0.6935 - val_accuracy: 0.5000\n",
      "Epoch 10/10\n",
      "169/169 [==============================] - 26s 153ms/step - loss: 0.6934 - accuracy: 0.5000 - val_loss: 0.6935 - val_accuracy: 0.5000\n"
     ]
    }
   ],
   "source": [
    "with tf.device('/GPU:0'):\n",
    "    model.fit(train, validation_data=valid, epochs=10)"
   ]
  },
  {
   "cell_type": "code",
   "execution_count": 92,
   "id": "b706ead4",
   "metadata": {},
   "outputs": [
    {
     "name": "stdout",
     "output_type": "stream",
     "text": [
      "57/57 [==============================] - 2s 34ms/step\n"
     ]
    }
   ],
   "source": [
    "logits = model.predict(valid)\n",
    "prediction = tf.round(tf.nn.sigmoid(logits))"
   ]
  },
  {
   "cell_type": "code",
   "execution_count": 93,
   "id": "e9cca263",
   "metadata": {},
   "outputs": [
    {
     "name": "stdout",
     "output_type": "stream",
     "text": [
      "              precision    recall  f1-score   support\n",
      "\n",
      "         0.0       0.51      0.48      0.49     30373\n",
      "         1.0       0.45      0.48      0.46     27083\n",
      "\n",
      "    accuracy                           0.48     57456\n",
      "   macro avg       0.48      0.48      0.48     57456\n",
      "weighted avg       0.48      0.48      0.48     57456\n",
      "\n"
     ]
    }
   ],
   "source": [
    "print(classification_report(prediction, y_test))"
   ]
  },
  {
   "cell_type": "markdown",
   "id": "e3d77c49",
   "metadata": {},
   "source": [
    "## Выводы \n",
    "* 1 Сеть не перообучена  \n",
    "* 2 Однако никакие манипуляции с размером эмбединга, рахиером словаря, скорости обучения и архитектуры сети (использовались архитектуры ниже в разных маштабах - GRU, LSTM, SimpleRNN) не позводили преодолеть 50% по точности\n",
    "* Можно попробовать биноправленые рекурентные сети"
   ]
  }
 ],
 "metadata": {
  "kernelspec": {
   "display_name": "Python 3 (ipykernel)",
   "language": "python",
   "name": "python3"
  },
  "language_info": {
   "codemirror_mode": {
    "name": "ipython",
    "version": 3
   },
   "file_extension": ".py",
   "mimetype": "text/x-python",
   "name": "python",
   "nbconvert_exporter": "python",
   "pygments_lexer": "ipython3",
   "version": "3.9.18"
  }
 },
 "nbformat": 4,
 "nbformat_minor": 5
}
